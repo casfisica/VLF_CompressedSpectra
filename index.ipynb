{
 "cells": [
  {
   "cell_type": "markdown",
   "metadata": {},
   "source": [
    "# Vector-like fermion dark matter "
   ]
  },
  {
   "cell_type": "markdown",
   "metadata": {},
   "source": [
    "Generated data for a reference Luminosity $100\\ \\text{fb}^{-1}$\n",
    "\n",
    "The significance a the reference luminosity is obtained from\n",
    "\\begin{equation}\n",
    "\\sigma=\\frac{S}{\\sqrt{S+B}}\n",
    "\\end{equation}\n",
    "where"
   ]
  },
  {
   "cell_type": "code",
   "execution_count": 1,
   "metadata": {
    "collapsed": true
   },
   "outputs": [],
   "source": [
    "B=569978"
   ]
  },
  {
   "cell_type": "markdown",
   "metadata": {},
   "source": [
    "and $S$ and $\\sigma$ can be obtained from a grid for"
   ]
  },
  {
   "cell_type": "code",
   "execution_count": 2,
   "metadata": {
    "collapsed": true
   },
   "outputs": [],
   "source": [
    "import numpy as np\n",
    "DeltaM=np.arange(1,16,1) # [1,2,...,15]\n",
    "MDF=np.arange(100,205,5) # [100,105,...,200]"
   ]
  },
  {
   "cell_type": "markdown",
   "metadata": {},
   "source": [
    "We explore a grid of this $l=15$ values of $\\Delta M$ and this $m=21$ values $M_{F}$.  \n",
    "\n",
    "* We require a $l\\times m$ matrix of cross sections for each $l$ and $m$ values denoted as: `XS` loaded as\n",
    "```python\n",
    "XS=np.loadtxt('XS.txt')\n",
    "```\n",
    "\n",
    "* We require a $m\\times l$ matrix of cut efficiences (in %) for each $m$ and $l$ values denoted as : `Eff`\n",
    "```python\n",
    "Eff=np.loadtxt('Eff.txt')\n",
    "```"
   ]
  },
  {
   "cell_type": "code",
   "execution_count": 3,
   "metadata": {
    "collapsed": true
   },
   "outputs": [],
   "source": [
    "Eff=np.loadtxt('Eff.txt')\n",
    "XS=np.loadtxt('XS.txt')"
   ]
  },
  {
   "cell_type": "markdown",
   "metadata": {},
   "source": [
    "## Example\n",
    "Below we prepare a plot on with this data:"
   ]
  },
  {
   "cell_type": "code",
   "execution_count": 4,
   "metadata": {},
   "outputs": [
    {
     "name": "stdout",
     "output_type": "stream",
     "text": [
      "Populating the interactive namespace from numpy and matplotlib\n"
     ]
    }
   ],
   "source": [
    "%pylab inline"
   ]
  },
  {
   "cell_type": "code",
   "execution_count": 5,
   "metadata": {
    "collapsed": true
   },
   "outputs": [],
   "source": [
    "import pandas as pd\n",
    "\n",
    "def Z(S,B):\n",
    "    return S/np.sqrt(S+B)\n",
    "\n",
    "def significance(XS,Eff,Lumi,TB,background_lumi=100000):\n",
    "    '''XS: Cross section in pb \n",
    "       Eff: Cut efficiency in %\n",
    "       Lumi in pb^-1\n",
    "       TB: SM Backound at 30000 pb^-1\n",
    "    '''\n",
    "    Evts=Lumi*(XS.transpose())*(Eff)\n",
    "    return Z(Evts,TB*Lumi/background_lumi) #Z(Evts,TB)\n",
    "\n",
    "dh=pd.DataFrame()\n",
    "Lumis=[3000000] # in pb^-1\n",
    "\n",
    "for Lumi in Lumis:\n",
    "    Significance=significance(XS,Eff,Lumi,B)\n",
    "    for i in range(DeltaM.shape[0]):\n",
    "        dh=dh.append({'Luminosity':Lumi,'DeltaM':DeltaM[i],'MDF':MDF,'XS':XS[i],'Eff':Eff.transpose()[i],\\\n",
    "                      'Significance':Significance.transpose()[i]},ignore_index=True)"
   ]
  },
  {
   "cell_type": "code",
   "execution_count": 6,
   "metadata": {},
   "outputs": [
    {
     "data": {
      "text/plain": [
       "<matplotlib.collections.LineCollection at 0x7f803ff31f28>"
      ]
     },
     "execution_count": 6,
     "metadata": {},
     "output_type": "execute_result"
    },
    {
     "data": {
      "image/png": "[encoded data removed]",
      "text/plain": [
       "<matplotlib.figure.Figure at 0x7f8041f9df28>"
      ]
     },
     "metadata": {},
     "output_type": "display_data"
    }
   ],
   "source": [
    "DeltaM1=5\n",
    "df1=dh[dh.DeltaM==DeltaM1].reset_index(drop=True)\n",
    "\n",
    "plt.plot(df1.MDF[0],df1.Significance[0],'bo')\n",
    "plt.plot(df1.MDF[0],df1.Significance[0],'k-')\n",
    "plt.xlabel('$M_F$  [GeV]',size=20)\n",
    "plt.ylabel('$\\sigma$ ',size=20)\n",
    "plt.title('$\\cal L=3000$ fb${}^{-1}$',size=20)\n",
    "plt.xlim(100,200)\n",
    "plt.hlines(3,100,200)"
   ]
  },
  {
   "cell_type": "code",
   "execution_count": 7,
   "metadata": {
    "collapsed": true
   },
   "outputs": [],
   "source": [
    "import pandas as pd\n",
    "import numpy as np"
   ]
  },
  {
   "cell_type": "markdown",
   "metadata": {},
   "source": [
    "## Appendix: Obtain Efficiency matrix from DataFrame"
   ]
  },
  {
   "cell_type": "markdown",
   "metadata": {
    "collapsed": true
   },
   "source": [
    "If you prefer working with pandas DataFrame, the full data for the reference luminosity of $100\\ \\text{fb}^-1$ can be loaded from:"
   ]
  },
  {
   "cell_type": "code",
   "execution_count": 8,
   "metadata": {
    "collapsed": true
   },
   "outputs": [],
   "source": [
    "df=pd.read_csv('grid_lumi_100fb-1.csv')"
   ]
  },
  {
   "cell_type": "code",
   "execution_count": 9,
   "metadata": {},
   "outputs": [
    {
     "data": {
      "text/html": [
       "<div>\n",
       "<table border=\"1\" class=\"dataframe\">\n",
       "  <thead>\n",
       "    <tr style=\"text-align: right;\">\n",
       "      <th></th>\n",
       "      <th>DeltaM</th>\n",
       "      <th>MDF</th>\n",
       "      <th>Significance</th>\n",
       "      <th>XS</th>\n",
       "      <th>B</th>\n",
       "      <th>S</th>\n",
       "      <th>Efficiency</th>\n",
       "    </tr>\n",
       "  </thead>\n",
       "  <tbody>\n",
       "    <tr>\n",
       "      <th>0</th>\n",
       "      <td>1.0</td>\n",
       "      <td>100.0</td>\n",
       "      <td>0.722389</td>\n",
       "      <td>0.3315</td>\n",
       "      <td>569978</td>\n",
       "      <td>545.642195</td>\n",
       "      <td>0.01646</td>\n",
       "    </tr>\n",
       "  </tbody>\n",
       "</table>\n",
       "</div>"
      ],
      "text/plain": [
       "   DeltaM    MDF  Significance      XS       B           S  Efficiency\n",
       "0     1.0  100.0      0.722389  0.3315  569978  545.642195     0.01646"
      ]
     },
     "execution_count": 9,
     "metadata": {},
     "output_type": "execute_result"
    }
   ],
   "source": [
    "df[:1]"
   ]
  },
  {
   "cell_type": "markdown",
   "metadata": {},
   "source": [
    "A similar plot for the reference lumonosity is"
   ]
  },
  {
   "cell_type": "code",
   "execution_count": 10,
   "metadata": {},
   "outputs": [
    {
     "data": {
      "text/plain": [
       "(100, 200)"
      ]
     },
     "execution_count": 10,
     "metadata": {},
     "output_type": "execute_result"
    },
    {
     "data": {
      "image/png": "[encoded data removed]",
      "text/plain": [
       "<matplotlib.figure.Figure at 0x7f803fe9e048>"
      ]
     },
     "metadata": {},
     "output_type": "display_data"
    }
   ],
   "source": [
    "plt.plot(df[df.DeltaM==5].MDF,df[df.DeltaM==5].Significance,'r-')\n",
    "plt.xlabel('$M_F$  [GeV]',size=20)\n",
    "plt.ylabel('$\\sigma$ ',size=20)\n",
    "plt.title('$\\cal L=100$ fb${}^{-1}$',size=20)\n",
    "plt.xlim(100,200)"
   ]
  },
  {
   "cell_type": "markdown",
   "metadata": {},
   "source": [
    "The previous cross section and efficiency matrices were obtained from this DataFrame with:"
   ]
  },
  {
   "cell_type": "code",
   "execution_count": 5,
   "metadata": {},
   "outputs": [
    {
     "name": "stdout",
     "output_type": "stream",
     "text": [
      "14 20 15.0 200.0\r"
     ]
    }
   ],
   "source": [
    "SAVE=True\n",
    "lmax=df.DeltaM.unique().shape[0]\n",
    "mmax=df.MDF.unique().shape[0]\n",
    "XS=np.zeros((lmax,mmax))\n",
    "Eff=np.zeros((mmax,lmax))\n",
    "\n",
    "for l in range(lmax):\n",
    "    for m in range(mmax):\n",
    "        ll=df.DeltaM.unique()[l]\n",
    "        mm=df.MDF.unique()[m]\n",
    "        dflm=df[np.logical_and(df.DeltaM==ll,df.MDF==mm)].reset_index(drop=True)\n",
    "        if dflm.shape[0]:\n",
    "            XS[l,m]=dflm.XS[0]\n",
    "            Eff[m,l]=dflm.Efficiency[0]\n",
    "        else:\n",
    "            sys.exit('lm {}{}'.format(l,m))\n",
    "        print('{} {} {} {}'.format(l,m,ll,mm),end='\\r')\n",
    "\n",
    "\n",
    "if SAVE:\n",
    "    np.savetxt('XS.txt',XS)\n",
    "    np.savetxt('Eff.txt',Eff)"
   ]
  }
 ],
 "metadata": {
  "kernelspec": {
   "display_name": "Python 3",
   "language": "python",
   "name": "python3"
  },
  "language_info": {
   "codemirror_mode": {
    "name": "ipython",
    "version": 3
   },
   "file_extension": ".py",
   "mimetype": "text/x-python",
   "name": "python",
   "nbconvert_exporter": "python",
   "pygments_lexer": "ipython3",
   "version": "3.4.2"
  },
  "latex_envs": {
   "LaTeX_envs_menu_present": true,
   "bibliofile": "biblio.bib",
   "cite_by": "apalike",
   "current_citInitial": 1,
   "eqLabelWithNumbers": true,
   "eqNumInitial": 1,
   "labels_anchors": false,
   "latex_user_defs": false,
   "report_style_numbering": false,
   "user_envs_cfg": false
  },
  "toc": {
   "colors": {
    "hover_highlight": "#DAA520",
    "running_highlight": "#FF0000",
    "selected_highlight": "#FFD700"
   },
   "moveMenuLeft": true,
   "nav_menu": {
    "height": "139px",
    "width": "252px"
   },
   "navigate_menu": true,
   "number_sections": true,
   "sideBar": true,
   "threshold": 4,
   "toc_cell": false,
   "toc_section_display": "block",
   "toc_window_display": false
  }
 },
 "nbformat": 4,
 "nbformat_minor": 1
}
