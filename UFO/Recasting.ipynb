{
 "cells": [
  {
   "cell_type": "markdown",
   "metadata": {},
   "source": [
    "# Recasting of sleptons searches with compressed spectra"
   ]
  },
  {
   "cell_type": "markdown",
   "metadata": {},
   "source": [
    "Based on arXiv:1712.0811 and their theoretical references:\n",
    "\n",
    "[35] 1411.6043\n",
    "\n",
    "[36] 1412.0618\n",
    "\n",
    "[37] 1501.02511\n",
    "\n",
    "Moreower there is   1706.05339 where all the $\\Delta m$ cases are studied until 60 GeV. In figure 6 of [ATLAS-CONF-2017-039.pdf](http://inspirehep.net/record/1602531/files/ATLAS-CONF-2017-039.pdf) we chan chek that Run-II does not improve the minimum $\\Delta m$ of the non-compressed search.\n",
    "\n",
    "The sleptons cross sections at NLO-NLL are the ones in:\n",
    "\n",
    "https://twiki.cern.ch/twiki/bin/view/LHCPhysics/SUSYCrossSections13TeVslepslep\n",
    "\n",
    "For example:\n",
    "```\n",
    "m_{~e_L}=100 GeV -> 270.79 fb\n",
    "m_{~e_R}=100 GeV -> 96.51 fb\n",
    "```\n",
    "\n",
    "So that\n",
    "\n",
    "`xs= 2*(270.79 + 96.51) = 735 fb = 0.735 pb`"
   ]
  },
  {
   "cell_type": "code",
   "execution_count": 1,
   "metadata": {},
   "outputs": [
    {
     "name": "stdout",
     "output_type": "stream",
     "text": [
      "Populating the interactive namespace from numpy and matplotlib\n"
     ]
    }
   ],
   "source": [
    "%pylab inline"
   ]
  },
  {
   "cell_type": "code",
   "execution_count": 2,
   "metadata": {},
   "outputs": [],
   "source": [
    "import pandas as pd"
   ]
  },
  {
   "cell_type": "code",
   "execution_count": 3,
   "metadata": {},
   "outputs": [],
   "source": [
    "df=pd.read_csv('1712_08119.csv')"
   ]
  },
  {
   "cell_type": "code",
   "execution_count": 73,
   "metadata": {},
   "outputs": [],
   "source": [
    "ex=df[df['xso/xsl']<1].reset_index(drop=True)"
   ]
  },
  {
   "cell_type": "code",
   "execution_count": 8,
   "metadata": {},
   "outputs": [
    {
     "data": {
      "text/plain": [
       "(0, 60)"
      ]
     },
     "execution_count": 8,
     "metadata": {},
     "output_type": "execute_result"
    },
    {
     "data": {
      "image/png": "[encoded data removed]",
      "text/plain": [
       "<matplotlib.figure.Figure at 0x7f5e9b0eaa20>"
      ]
     },
     "metadata": {},
     "output_type": "display_data"
    }
   ],
   "source": [
    "plt.plot(ex.MF,ex.DeltaM,'ro')\n",
    "plt.xlim(60,250)\n",
    "plt.ylim(0,60)"
   ]
  },
  {
   "cell_type": "code",
   "execution_count": 114,
   "metadata": {},
   "outputs": [
    {
     "name": "stdout",
     "output_type": "stream",
     "text": [
      "0 100.0 10.0\n",
      "1 101.0 1.0\n",
      "2 102.0 2.0\n",
      "3 103.0 3.0\n",
      "4 105.0 5.0\n",
      "5 105.0 15.0\n",
      "6 110.0 10.0\n",
      "7 110.0 40.0\n",
      "8 115.0 15.0\n",
      "9 115.0 25.0\n",
      "10 120.0 60.0\n",
      "11 120.0 50.0\n",
      "12 120.0 40.0\n",
      "13 120.0 30.0\n",
      "14 121.0 1.0\n",
      "15 122.0 2.0\n",
      "16 123.0 3.0\n",
      "17 125.0 25.0\n",
      "18 125.0 5.0\n",
      "19 130.0 10.0\n",
      "20 130.0 40.0\n",
      "21 135.0 15.0\n",
      "22 140.0 40.0\n",
      "23 140.0 20.0\n",
      "24 141.0 1.0\n",
      "25 142.0 2.0\n",
      "26 143.0 3.0\n",
      "27 145.0 25.0\n",
      "28 145.0 5.0\n",
      "29 150.0 10.0\n",
      "30 155.0 15.0\n",
      "31 160.0 60.0\n",
      "32 160.0 40.0\n",
      "33 160.0 20.0\n",
      "34 161.0 1.0\n",
      "35 162.0 2.0\n",
      "36 163.0 3.0\n",
      "37 165.0 25.0\n",
      "38 165.0 5.0\n",
      "39 170.0 10.0\n",
      "40 180.0 60.0\n",
      "41 180.0 40.0\n",
      "42 180.0 20.0\n",
      "43 181.0 1.0\n",
      "44 182.0 2.0\n",
      "45 183.0 3.0\n",
      "46 185.0 25.0\n",
      "47 185.0 5.0\n",
      "48 190.0 10.0\n",
      "49 195.0 15.0\n",
      "50 200.0 60.0\n",
      "51 200.0 40.0\n",
      "52 200.0 20.0\n",
      "53 201.0 1.0\n",
      "54 202.0 2.0\n",
      "55 205.0 25.0\n",
      "56 205.0 5.0\n",
      "57 210.0 10.0\n",
      "58 220.0 60.0\n",
      "59 220.0 40.0\n",
      "60 220.0 20.0\n",
      "61 240.0 60.0\n",
      "62 251.0 1.0\n",
      "63 255.0 5.0\n",
      "64 260.0 10.0\n",
      "65 270.0 20.0\n",
      "66 71.0 1.0\n",
      "67 75.0 5.0\n",
      "68 80.0 10.0\n",
      "69 90.0 60.0\n",
      "70 90.0 50.0\n",
      "71 90.0 40.0\n",
      "72 90.0 30.0\n",
      "73 90.0 25.0\n",
      "74 90.0 20.0\n",
      "75 91.0 1.0\n",
      "76 92.0 2.0\n",
      "77 93.0 3.0\n",
      "78 95.0 5.0\n",
      "79 70.5 0.5\n"
     ]
    }
   ],
   "source": [
    "import subprocess\n",
    "from cmdlike import *\n",
    "ex=df.copy()\n",
    "ex['xss']=0\n",
    "for i in ex.index:\n",
    "    MF=ex.loc[i,'MF']\n",
    "    DeltaM=ex.loc[i,'DeltaM']\n",
    "    print(i,MF,DeltaM)\n",
    "    MS=MF-DeltaM\n",
    "    \n",
    "    # Prepare input SPHENO file:\n",
    "    f=open('Input/LesHouches.in.SimplifiedDMSSSFDM_bak')\n",
    "    l=f.read()\n",
    "    f.close()\n",
    "    ll=l.replace('4   1.9600000E+04    # MS2Input','4   %.8E    # MS2Input' %MS**2).replace(\n",
    "                '5   1.5000000E+02    # MSFIN','5   %.8E    # MSFIN' %MF)\n",
    "    \n",
    "    f=open('LH.spc','w')\n",
    "    f.write(ll)\n",
    "    f.close()\n",
    "    \n",
    "    # Get madgraph input file\n",
    "    kk=subprocess.Popen('./SimplifiedDM-SSSFDM-Toolbox/SPHENO/bin/SPhenoSimplifiedDMSSSFDM LH.spc'.split(),\n",
    "                        stdout=subprocess.PIPE,stderr=subprocess.PIPE).communicate()\n",
    "    \n",
    "    # Run madgraph\n",
    "    kk=subprocess.Popen('cp SPheno.spc.SimplifiedDMSSSFDM Run/direcorio_con_cards/param_card.dat'.split(),\n",
    "                    stdout=subprocess.PIPE,stderr=subprocess.PIPE).communicate()\n",
    "\n",
    "    kk=subprocess.Popen('../SimplifiedDM-SSSFDM-Toolbox/madgraph/bin/mg5_aMC FFlllaunch.mdg'.split(),\n",
    "                    cwd='./Run',stdout=subprocess.PIPE,stderr=subprocess.PIPE).communicate()\n",
    "\n",
    "    xss=kk[0].decode('utf8')\n",
    "    if grep('Cross-section :',xss):\n",
    "        xs=eval(grep('Cross-section :',xss).split(':')[1].strip().split()[0])\n",
    "        ex.loc[i,'xss']=xs\n",
    "        ex.to_csv('recast.csv',index=False)\n",
    "    "
   ]
  },
  {
   "cell_type": "code",
   "execution_count": null,
   "metadata": {},
   "outputs": [],
   "source": [
    "ex['xsl']=ex.xso/ex['xso/xsl']\n",
    "ex=ex.sort_values('MF').reset_index(drop=True)"
   ]
  },
  {
   "cell_type": "code",
   "execution_count": 139,
   "metadata": {},
   "outputs": [
    {
     "data": {
      "image/png": "[encoded data removed]",
      "text/plain": [
       "<matplotlib.figure.Figure at 0x7f5e9207d240>"
      ]
     },
     "metadata": {},
     "output_type": "display_data"
    }
   ],
   "source": [
    "k=1\n",
    "plt.semilogy(ex.MF,ex.xsl,'k-',lw=2,label=r'$pp\\to \\,\\tilde{\\ell}_{L,R}^+ \\,\\tilde{\\ell}_{L,R}^-$')\n",
    "plt.semilogy(ex.MF,ex.xss*k,'g--',lw=2,label=r'$pp\\to \\,\\psi^+ \\, \\psi^-$')\n",
    "plt.ylabel('cross-section [pb]',size=15)\n",
    "plt.ylabel('cross-section [pb]',size=15)\n",
    "plt.xlabel(r'$m(\\tilde{\\ell}_{L,R}^+)=m(\\psi^+)$ [GeV]',size=15 )\n",
    "a=plt.legend(loc='best',fontsize=15)\n",
    "plt.tight_layout()\n",
    "plt.savefig('cs.pdf')"
   ]
  }
 ],
 "metadata": {
  "kernelspec": {
   "display_name": "Python 3",
   "language": "python",
   "name": "python3"
  },
  "language_info": {
   "codemirror_mode": {
    "name": "ipython",
    "version": 3
   },
   "file_extension": ".py",
   "mimetype": "text/x-python",
   "name": "python",
   "nbconvert_exporter": "python",
   "pygments_lexer": "ipython3",
   "version": "3.5.3"
  }
 },
 "nbformat": 4,
 "nbformat_minor": 2
}
