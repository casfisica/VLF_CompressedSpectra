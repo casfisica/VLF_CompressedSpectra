{
 "cells": [
  {
   "cell_type": "markdown",
   "metadata": {},
   "source": [
    "# Vector-like fermion dark matter "
   ]
  },
  {
   "cell_type": "markdown",
   "metadata": {},
   "source": [
    "Luminosity $100\\ \\text{fb}^{-1}$"
   ]
  },
  {
   "cell_type": "code",
   "execution_count": 1,
   "metadata": {},
   "outputs": [
    {
     "name": "stdout",
     "output_type": "stream",
     "text": [
      "Populating the interactive namespace from numpy and matplotlib\n"
     ]
    }
   ],
   "source": [
    "%pylab inline"
   ]
  },
  {
   "cell_type": "code",
   "execution_count": 2,
   "metadata": {},
   "outputs": [],
   "source": [
    "import pandas as pd\n",
    "import numpy as np"
   ]
  },
  {
   "cell_type": "markdown",
   "metadata": {},
   "source": [
    "## Prepare Efficiency matrix"
   ]
  },
  {
   "cell_type": "code",
   "execution_count": 3,
   "metadata": {},
   "outputs": [],
   "source": [
    "df=pd.read_csv('grid_lumi_100fb-1.csv')"
   ]
  },
  {
   "cell_type": "code",
   "execution_count": 31,
   "metadata": {},
   "outputs": [
    {
     "data": {
      "text/html": [
       "<div>\n",
       "<style>\n",
       "    .dataframe thead tr:only-child th {\n",
       "        text-align: right;\n",
       "    }\n",
       "\n",
       "    .dataframe thead th {\n",
       "        text-align: left;\n",
       "    }\n",
       "\n",
       "    .dataframe tbody tr th {\n",
       "        vertical-align: top;\n",
       "    }\n",
       "</style>\n",
       "<table border=\"1\" class=\"dataframe\">\n",
       "  <thead>\n",
       "    <tr style=\"text-align: right;\">\n",
       "      <th></th>\n",
       "      <th>DeltaM</th>\n",
       "      <th>MDF</th>\n",
       "      <th>Significance</th>\n",
       "      <th>XS</th>\n",
       "      <th>B</th>\n",
       "      <th>S</th>\n",
       "      <th>Efficiency</th>\n",
       "    </tr>\n",
       "  </thead>\n",
       "  <tbody>\n",
       "    <tr>\n",
       "      <th>0</th>\n",
       "      <td>1.0</td>\n",
       "      <td>100.0</td>\n",
       "      <td>0.722389</td>\n",
       "      <td>0.3315</td>\n",
       "      <td>569978</td>\n",
       "      <td>545.642195</td>\n",
       "      <td>0.01646</td>\n",
       "    </tr>\n",
       "  </tbody>\n",
       "</table>\n",
       "</div>"
      ],
      "text/plain": [
       "   DeltaM    MDF  Significance      XS       B           S  Efficiency\n",
       "0     1.0  100.0      0.722389  0.3315  569978  545.642195     0.01646"
      ]
     },
     "execution_count": 31,
     "metadata": {},
     "output_type": "execute_result"
    }
   ],
   "source": [
    "df[:1]"
   ]
  },
  {
   "cell_type": "markdown",
   "metadata": {},
   "source": [
    "We explore a grid of $l=15$ values of $\\Delta M$ and $m=21$ values $M_{F}$.  \n",
    "\n",
    "* We require a $l\\times m$ matrix of cross sections for each $l$ and $m$ values denoted as: `XS`\n",
    "\n",
    "* We require a $m\\times l$ matrix of cut efficiences (in %) for each $m$ and $l$ values denoted as : `Eff`"
   ]
  },
  {
   "cell_type": "code",
   "execution_count": 36,
   "metadata": {},
   "outputs": [
    {
     "name": "stdout",
     "output_type": "stream",
     "text": [
      "14 20 15.0 200.0\r"
     ]
    }
   ],
   "source": [
    "SAVE=True\n",
    "lmax=df.DeltaM.unique().shape[0]\n",
    "mmax=df.MDF.unique().shape[0]\n",
    "XS=np.zeros((lmax,mmax))\n",
    "Eff=np.zeros((mmax,lmax))\n",
    "\n",
    "for l in range(lmax):\n",
    "    for m in range(mmax):\n",
    "        ll=df.DeltaM.unique()[l]\n",
    "        mm=df.MDF.unique()[m]\n",
    "        dflm=df[np.logical_and(df.DeltaM==ll,df.MDF==mm)].reset_index(drop=True)\n",
    "        if dflm.shape[0]:\n",
    "            XS[l,m]=dflm.XS[0]\n",
    "            Eff[m,l]=dflm.Efficiency[0]\n",
    "        else:\n",
    "            sys.exit('lm {}{}'.format(l,m))\n",
    "        print('{} {} {} {}'.format(l,m,ll,mm),end='\\r')\n",
    "\n",
    "\n",
    "if SAVE:\n",
    "    np.savetxt('XS.txt',XS)\n",
    "    np.savetxt('Eff.txt',Eff)"
   ]
  },
  {
   "cell_type": "markdown",
   "metadata": {},
   "source": [
    "## Load Efficiency and Cross section matrices"
   ]
  },
  {
   "cell_type": "code",
   "execution_count": 40,
   "metadata": {},
   "outputs": [],
   "source": [
    "Eff=np.loadtxt('Eff.txt')\n",
    "XS=np.loadtxt('XS.txt')"
   ]
  },
  {
   "cell_type": "markdown",
   "metadata": {},
   "source": [
    "## Results"
   ]
  },
  {
   "cell_type": "code",
   "execution_count": 41,
   "metadata": {},
   "outputs": [],
   "source": [
    "import numpy as np\n",
    "import scipy.optimize as optimization\n",
    "import pandas as pd\n",
    "import sys\n",
    "from matplotlib.colors import LogNorm\n",
    "\n",
    "TB=df.B.loc[0] #Background at 100fb^-1\n",
    "\n",
    "def func(x, a, b, c, d, e):\n",
    "    return a + b*x + c*x*x + d*x*x*x + e*x*x*x*x\n",
    "\n",
    "def Z(S,B):\n",
    "    return S/np.sqrt(S+B)\n",
    "\n",
    "def significance(XS,Eff,Lumi,TB):\n",
    "    '''XS: Cross section in pb \n",
    "       Eff: Cut efficiency in %\n",
    "       Lumi in pb^-1\n",
    "       TB: SM Backound at 30000 pb^-1\n",
    "    '''\n",
    "    Evts=Lumi*(XS.transpose())*(Eff)\n",
    "    return Z(Evts,TB*Lumi/30000.) #Z(Evts,TB)\n",
    "\n",
    "def g(x,excl=5):\n",
    "    return excl*np.ones_like(x)"
   ]
  },
  {
   "cell_type": "code",
   "execution_count": 42,
   "metadata": {},
   "outputs": [],
   "source": [
    "dh=pd.DataFrame()\n",
    "Lumis=[100000]\n",
    "DeltaM=df.DeltaM.unique()\n",
    "\n",
    "MDF=df.MDF.unique()\n",
    "#np.savetxt('XS.txt',XS)\n",
    "#np.savetxt('Eff.txt',Eff)\n",
    "Eff=np.loadtxt('Eff.txt')\n",
    "XS=np.loadtxt('XS.txt')\n",
    "\n",
    "for Lumi in Lumis:\n",
    "    Significance=significance(XS,Eff,Lumi,TB)\n",
    "    for i in range(DeltaM.shape[0]):\n",
    "        dh=dh.append({'Luminosity':Lumi,'DeltaM':DeltaM[i],'MDF':MDF,'XS':XS[i],'Eff':Eff.transpose()[i],\\\n",
    "                      'Significance':Significance.transpose()[i]},ignore_index=True)"
   ]
  },
  {
   "cell_type": "code",
   "execution_count": 43,
   "metadata": {},
   "outputs": [],
   "source": [
    "DeltaM1=5\n",
    "df1=dh[dh.DeltaM==DeltaM1].reset_index(drop=True)"
   ]
  },
  {
   "cell_type": "code",
   "execution_count": 52,
   "metadata": {},
   "outputs": [
    {
     "data": {
      "text/plain": [
       "[<matplotlib.lines.Line2D at 0x7f551675ed68>]"
      ]
     },
     "execution_count": 52,
     "metadata": {},
     "output_type": "execute_result"
    },
    {
     "data": {
      "image/png": "[encoded data removed]",
      "text/plain": [
       "<matplotlib.figure.Figure at 0x7f551879a5f8>"
      ]
     },
     "metadata": {},
     "output_type": "display_data"
    }
   ],
   "source": [
    "plt.plot(df1.MDF[0],2*df1.Significance[0],'bo')\n",
    "plt.plot(df1.MDF[0],2*df1.Significance[0],'k-')\n",
    "#plt.hlines(3,100,200)"
   ]
  },
  {
   "cell_type": "code",
   "execution_count": 49,
   "metadata": {},
   "outputs": [
    {
     "data": {
      "text/plain": [
       "Index(['DeltaM', 'Eff', 'Luminosity', 'MDF', 'Significance', 'XS'], dtype='object')"
      ]
     },
     "execution_count": 49,
     "metadata": {},
     "output_type": "execute_result"
    }
   ],
   "source": [
    "dh.columns"
   ]
  },
  {
   "cell_type": "code",
   "execution_count": 50,
   "metadata": {},
   "outputs": [
    {
     "data": {
      "text/html": [
       "<div>\n",
       "<style>\n",
       "    .dataframe thead tr:only-child th {\n",
       "        text-align: right;\n",
       "    }\n",
       "\n",
       "    .dataframe thead th {\n",
       "        text-align: left;\n",
       "    }\n",
       "\n",
       "    .dataframe tbody tr th {\n",
       "        vertical-align: top;\n",
       "    }\n",
       "</style>\n",
       "<table border=\"1\" class=\"dataframe\">\n",
       "  <thead>\n",
       "    <tr style=\"text-align: right;\">\n",
       "      <th></th>\n",
       "      <th>DeltaM</th>\n",
       "      <th>Eff</th>\n",
       "      <th>Luminosity</th>\n",
       "      <th>MDF</th>\n",
       "      <th>Significance</th>\n",
       "      <th>XS</th>\n",
       "    </tr>\n",
       "  </thead>\n",
       "  <tbody>\n",
       "    <tr>\n",
       "      <th>4</th>\n",
       "      <td>5.0</td>\n",
       "      <td>[0.0441293955811, 0.0459594540964, 0.047349272...</td>\n",
       "      <td>100000.0</td>\n",
       "      <td>[100.0, 105.0, 110.0, 115.0, 120.0, 125.0, 130...</td>\n",
       "      <td>[1.06090368974, 0.949285568466, 0.846502909977...</td>\n",
       "      <td>[0.3315, 0.2848, 0.2465, 0.2142, 0.1873, 0.164...</td>\n",
       "    </tr>\n",
       "  </tbody>\n",
       "</table>\n",
       "</div>"
      ],
      "text/plain": [
       "   DeltaM                                                Eff  Luminosity  \\\n",
       "4     5.0  [0.0441293955811, 0.0459594540964, 0.047349272...    100000.0   \n",
       "\n",
       "                                                 MDF  \\\n",
       "4  [100.0, 105.0, 110.0, 115.0, 120.0, 125.0, 130...   \n",
       "\n",
       "                                        Significance  \\\n",
       "4  [1.06090368974, 0.949285568466, 0.846502909977...   \n",
       "\n",
       "                                                  XS  \n",
       "4  [0.3315, 0.2848, 0.2465, 0.2142, 0.1873, 0.164...  "
      ]
     },
     "execution_count": 50,
     "metadata": {},
     "output_type": "execute_result"
    }
   ],
   "source": [
    "dh[dh.DeltaM==5]"
   ]
  },
  {
   "cell_type": "code",
   "execution_count": 51,
   "metadata": {},
   "outputs": [
    {
     "data": {
      "text/plain": [
       "[<matplotlib.lines.Line2D at 0x7f55165f04e0>]"
      ]
     },
     "execution_count": 51,
     "metadata": {},
     "output_type": "execute_result"
    },
    {
     "data": {
      "image/png": "[encoded data removed]",
      "text/plain": [
       "<matplotlib.figure.Figure at 0x7f55165d0128>"
      ]
     },
     "metadata": {},
     "output_type": "display_data"
    }
   ],
   "source": [
    "plt.plot(df[df.DeltaM==5].MDF,df[df.DeltaM==5].Significance,'ro')"
   ]
  },
  {
   "cell_type": "code",
   "execution_count": 57,
   "metadata": {},
   "outputs": [
    {
     "data": {
      "text/html": [
       "<div>\n",
       "<style>\n",
       "    .dataframe thead tr:only-child th {\n",
       "        text-align: right;\n",
       "    }\n",
       "\n",
       "    .dataframe thead th {\n",
       "        text-align: left;\n",
       "    }\n",
       "\n",
       "    .dataframe tbody tr th {\n",
       "        vertical-align: top;\n",
       "    }\n",
       "</style>\n",
       "<table border=\"1\" class=\"dataframe\">\n",
       "  <thead>\n",
       "    <tr style=\"text-align: right;\">\n",
       "      <th></th>\n",
       "      <th>DeltaM</th>\n",
       "      <th>MDF</th>\n",
       "      <th>Significance</th>\n",
       "      <th>XS</th>\n",
       "      <th>B</th>\n",
       "      <th>S</th>\n",
       "      <th>Efficiency</th>\n",
       "      <th>tmp</th>\n",
       "    </tr>\n",
       "  </thead>\n",
       "  <tbody>\n",
       "    <tr>\n",
       "      <th>0</th>\n",
       "      <td>1.0</td>\n",
       "      <td>100.0</td>\n",
       "      <td>0.722389</td>\n",
       "      <td>0.3315</td>\n",
       "      <td>569978</td>\n",
       "      <td>545.642195</td>\n",
       "      <td>0.016460</td>\n",
       "      <td>545.642195</td>\n",
       "    </tr>\n",
       "    <tr>\n",
       "      <th>1</th>\n",
       "      <td>1.0</td>\n",
       "      <td>105.0</td>\n",
       "      <td>0.599934</td>\n",
       "      <td>0.2848</td>\n",
       "      <td>569978</td>\n",
       "      <td>453.111492</td>\n",
       "      <td>0.015910</td>\n",
       "      <td>453.111492</td>\n",
       "    </tr>\n",
       "    <tr>\n",
       "      <th>2</th>\n",
       "      <td>1.0</td>\n",
       "      <td>110.0</td>\n",
       "      <td>0.497748</td>\n",
       "      <td>0.2465</td>\n",
       "      <td>569978</td>\n",
       "      <td>375.908144</td>\n",
       "      <td>0.015250</td>\n",
       "      <td>375.908144</td>\n",
       "    </tr>\n",
       "    <tr>\n",
       "      <th>3</th>\n",
       "      <td>1.0</td>\n",
       "      <td>115.0</td>\n",
       "      <td>0.444453</td>\n",
       "      <td>0.2142</td>\n",
       "      <td>569978</td>\n",
       "      <td>335.646965</td>\n",
       "      <td>0.015670</td>\n",
       "      <td>335.646965</td>\n",
       "    </tr>\n",
       "    <tr>\n",
       "      <th>4</th>\n",
       "      <td>1.0</td>\n",
       "      <td>120.0</td>\n",
       "      <td>0.389396</td>\n",
       "      <td>0.1873</td>\n",
       "      <td>569978</td>\n",
       "      <td>294.057684</td>\n",
       "      <td>0.015700</td>\n",
       "      <td>294.057684</td>\n",
       "    </tr>\n",
       "    <tr>\n",
       "      <th>5</th>\n",
       "      <td>1.0</td>\n",
       "      <td>125.0</td>\n",
       "      <td>0.327830</td>\n",
       "      <td>0.1646</td>\n",
       "      <td>569978</td>\n",
       "      <td>247.555188</td>\n",
       "      <td>0.015040</td>\n",
       "      <td>247.555188</td>\n",
       "    </tr>\n",
       "    <tr>\n",
       "      <th>6</th>\n",
       "      <td>1.0</td>\n",
       "      <td>130.0</td>\n",
       "      <td>0.284396</td>\n",
       "      <td>0.1453</td>\n",
       "      <td>569978</td>\n",
       "      <td>214.750572</td>\n",
       "      <td>0.014780</td>\n",
       "      <td>214.750572</td>\n",
       "    </tr>\n",
       "    <tr>\n",
       "      <th>7</th>\n",
       "      <td>1.0</td>\n",
       "      <td>135.0</td>\n",
       "      <td>0.244792</td>\n",
       "      <td>0.1289</td>\n",
       "      <td>569978</td>\n",
       "      <td>184.840304</td>\n",
       "      <td>0.014340</td>\n",
       "      <td>184.840304</td>\n",
       "    </tr>\n",
       "    <tr>\n",
       "      <th>8</th>\n",
       "      <td>1.0</td>\n",
       "      <td>140.0</td>\n",
       "      <td>0.214872</td>\n",
       "      <td>0.1145</td>\n",
       "      <td>569978</td>\n",
       "      <td>162.244758</td>\n",
       "      <td>0.014170</td>\n",
       "      <td>162.244758</td>\n",
       "    </tr>\n",
       "    <tr>\n",
       "      <th>9</th>\n",
       "      <td>1.0</td>\n",
       "      <td>145.0</td>\n",
       "      <td>0.185432</td>\n",
       "      <td>0.1022</td>\n",
       "      <td>569978</td>\n",
       "      <td>140.012582</td>\n",
       "      <td>0.013700</td>\n",
       "      <td>140.012582</td>\n",
       "    </tr>\n",
       "    <tr>\n",
       "      <th>10</th>\n",
       "      <td>1.0</td>\n",
       "      <td>150.0</td>\n",
       "      <td>0.163475</td>\n",
       "      <td>0.0915</td>\n",
       "      <td>569978</td>\n",
       "      <td>123.431899</td>\n",
       "      <td>0.013490</td>\n",
       "      <td>123.431899</td>\n",
       "    </tr>\n",
       "    <tr>\n",
       "      <th>11</th>\n",
       "      <td>1.0</td>\n",
       "      <td>155.0</td>\n",
       "      <td>0.148239</td>\n",
       "      <td>0.0823</td>\n",
       "      <td>569978</td>\n",
       "      <td>111.926819</td>\n",
       "      <td>0.013600</td>\n",
       "      <td>111.926819</td>\n",
       "    </tr>\n",
       "    <tr>\n",
       "      <th>12</th>\n",
       "      <td>1.0</td>\n",
       "      <td>160.0</td>\n",
       "      <td>0.124413</td>\n",
       "      <td>0.0742</td>\n",
       "      <td>569978</td>\n",
       "      <td>93.935682</td>\n",
       "      <td>0.012660</td>\n",
       "      <td>93.935682</td>\n",
       "    </tr>\n",
       "    <tr>\n",
       "      <th>13</th>\n",
       "      <td>1.0</td>\n",
       "      <td>165.0</td>\n",
       "      <td>0.107817</td>\n",
       "      <td>0.0670</td>\n",
       "      <td>569978</td>\n",
       "      <td>81.404291</td>\n",
       "      <td>0.012150</td>\n",
       "      <td>81.404291</td>\n",
       "    </tr>\n",
       "    <tr>\n",
       "      <th>14</th>\n",
       "      <td>1.0</td>\n",
       "      <td>170.0</td>\n",
       "      <td>0.100332</td>\n",
       "      <td>0.0607</td>\n",
       "      <td>569978</td>\n",
       "      <td>75.752570</td>\n",
       "      <td>0.012480</td>\n",
       "      <td>75.752570</td>\n",
       "    </tr>\n",
       "    <tr>\n",
       "      <th>15</th>\n",
       "      <td>1.0</td>\n",
       "      <td>175.0</td>\n",
       "      <td>0.085238</td>\n",
       "      <td>0.0551</td>\n",
       "      <td>569978</td>\n",
       "      <td>64.356047</td>\n",
       "      <td>0.011680</td>\n",
       "      <td>64.356047</td>\n",
       "    </tr>\n",
       "    <tr>\n",
       "      <th>16</th>\n",
       "      <td>1.0</td>\n",
       "      <td>180.0</td>\n",
       "      <td>0.078566</td>\n",
       "      <td>0.0501</td>\n",
       "      <td>569978</td>\n",
       "      <td>59.317669</td>\n",
       "      <td>0.011840</td>\n",
       "      <td>59.317669</td>\n",
       "    </tr>\n",
       "    <tr>\n",
       "      <th>17</th>\n",
       "      <td>1.0</td>\n",
       "      <td>185.0</td>\n",
       "      <td>0.065939</td>\n",
       "      <td>0.0458</td>\n",
       "      <td>569978</td>\n",
       "      <td>49.783991</td>\n",
       "      <td>0.010870</td>\n",
       "      <td>49.783991</td>\n",
       "    </tr>\n",
       "    <tr>\n",
       "      <th>18</th>\n",
       "      <td>1.0</td>\n",
       "      <td>190.0</td>\n",
       "      <td>0.063613</td>\n",
       "      <td>0.0418</td>\n",
       "      <td>569978</td>\n",
       "      <td>48.027632</td>\n",
       "      <td>0.011490</td>\n",
       "      <td>48.027632</td>\n",
       "    </tr>\n",
       "    <tr>\n",
       "      <th>19</th>\n",
       "      <td>1.0</td>\n",
       "      <td>195.0</td>\n",
       "      <td>0.057830</td>\n",
       "      <td>0.0383</td>\n",
       "      <td>569978</td>\n",
       "      <td>43.661447</td>\n",
       "      <td>0.011400</td>\n",
       "      <td>43.661447</td>\n",
       "    </tr>\n",
       "    <tr>\n",
       "      <th>20</th>\n",
       "      <td>1.0</td>\n",
       "      <td>200.0</td>\n",
       "      <td>0.051557</td>\n",
       "      <td>0.0351</td>\n",
       "      <td>569978</td>\n",
       "      <td>38.925410</td>\n",
       "      <td>0.011090</td>\n",
       "      <td>38.925410</td>\n",
       "    </tr>\n",
       "    <tr>\n",
       "      <th>21</th>\n",
       "      <td>2.0</td>\n",
       "      <td>100.0</td>\n",
       "      <td>2.004840</td>\n",
       "      <td>0.3315</td>\n",
       "      <td>569978</td>\n",
       "      <td>1515.602822</td>\n",
       "      <td>0.045720</td>\n",
       "      <td>1515.602822</td>\n",
       "    </tr>\n",
       "    <tr>\n",
       "      <th>22</th>\n",
       "      <td>2.0</td>\n",
       "      <td>105.0</td>\n",
       "      <td>1.779560</td>\n",
       "      <td>0.2848</td>\n",
       "      <td>569978</td>\n",
       "      <td>1345.096759</td>\n",
       "      <td>0.047230</td>\n",
       "      <td>1345.096759</td>\n",
       "    </tr>\n",
       "    <tr>\n",
       "      <th>23</th>\n",
       "      <td>2.0</td>\n",
       "      <td>110.0</td>\n",
       "      <td>1.536900</td>\n",
       "      <td>0.2465</td>\n",
       "      <td>569978</td>\n",
       "      <td>1161.493294</td>\n",
       "      <td>0.047119</td>\n",
       "      <td>1161.493294</td>\n",
       "    </tr>\n",
       "    <tr>\n",
       "      <th>24</th>\n",
       "      <td>2.0</td>\n",
       "      <td>115.0</td>\n",
       "      <td>1.403090</td>\n",
       "      <td>0.2142</td>\n",
       "      <td>569978</td>\n",
       "      <td>1060.274065</td>\n",
       "      <td>0.049499</td>\n",
       "      <td>1060.274065</td>\n",
       "    </tr>\n",
       "    <tr>\n",
       "      <th>25</th>\n",
       "      <td>2.0</td>\n",
       "      <td>120.0</td>\n",
       "      <td>1.200280</td>\n",
       "      <td>0.1873</td>\n",
       "      <td>569978</td>\n",
       "      <td>906.894662</td>\n",
       "      <td>0.048419</td>\n",
       "      <td>906.894662</td>\n",
       "    </tr>\n",
       "    <tr>\n",
       "      <th>26</th>\n",
       "      <td>2.0</td>\n",
       "      <td>125.0</td>\n",
       "      <td>1.076030</td>\n",
       "      <td>0.1646</td>\n",
       "      <td>569978</td>\n",
       "      <td>812.948284</td>\n",
       "      <td>0.049389</td>\n",
       "      <td>812.948284</td>\n",
       "    </tr>\n",
       "    <tr>\n",
       "      <th>27</th>\n",
       "      <td>2.0</td>\n",
       "      <td>130.0</td>\n",
       "      <td>0.974353</td>\n",
       "      <td>0.1453</td>\n",
       "      <td>569978</td>\n",
       "      <td>736.081022</td>\n",
       "      <td>0.050659</td>\n",
       "      <td>736.081022</td>\n",
       "    </tr>\n",
       "    <tr>\n",
       "      <th>28</th>\n",
       "      <td>2.0</td>\n",
       "      <td>135.0</td>\n",
       "      <td>0.833743</td>\n",
       "      <td>0.1289</td>\n",
       "      <td>569978</td>\n",
       "      <td>629.797673</td>\n",
       "      <td>0.048859</td>\n",
       "      <td>629.797673</td>\n",
       "    </tr>\n",
       "    <tr>\n",
       "      <th>29</th>\n",
       "      <td>2.0</td>\n",
       "      <td>140.0</td>\n",
       "      <td>0.784888</td>\n",
       "      <td>0.1145</td>\n",
       "      <td>569978</td>\n",
       "      <td>592.874114</td>\n",
       "      <td>0.051779</td>\n",
       "      <td>592.874114</td>\n",
       "    </tr>\n",
       "    <tr>\n",
       "      <th>...</th>\n",
       "      <td>...</td>\n",
       "      <td>...</td>\n",
       "      <td>...</td>\n",
       "      <td>...</td>\n",
       "      <td>...</td>\n",
       "      <td>...</td>\n",
       "      <td>...</td>\n",
       "      <td>...</td>\n",
       "    </tr>\n",
       "    <tr>\n",
       "      <th>285</th>\n",
       "      <td>14.0</td>\n",
       "      <td>160.0</td>\n",
       "      <td>0.163424</td>\n",
       "      <td>0.0742</td>\n",
       "      <td>569978</td>\n",
       "      <td>123.393388</td>\n",
       "      <td>0.016630</td>\n",
       "      <td>123.393388</td>\n",
       "    </tr>\n",
       "    <tr>\n",
       "      <th>286</th>\n",
       "      <td>14.0</td>\n",
       "      <td>165.0</td>\n",
       "      <td>0.140114</td>\n",
       "      <td>0.0670</td>\n",
       "      <td>569978</td>\n",
       "      <td>105.791525</td>\n",
       "      <td>0.015790</td>\n",
       "      <td>105.791525</td>\n",
       "    </tr>\n",
       "    <tr>\n",
       "      <th>287</th>\n",
       "      <td>14.0</td>\n",
       "      <td>170.0</td>\n",
       "      <td>0.127825</td>\n",
       "      <td>0.0607</td>\n",
       "      <td>569978</td>\n",
       "      <td>96.512066</td>\n",
       "      <td>0.015900</td>\n",
       "      <td>96.512066</td>\n",
       "    </tr>\n",
       "    <tr>\n",
       "      <th>288</th>\n",
       "      <td>14.0</td>\n",
       "      <td>175.0</td>\n",
       "      <td>0.124060</td>\n",
       "      <td>0.0551</td>\n",
       "      <td>569978</td>\n",
       "      <td>93.669134</td>\n",
       "      <td>0.017000</td>\n",
       "      <td>93.669134</td>\n",
       "    </tr>\n",
       "    <tr>\n",
       "      <th>289</th>\n",
       "      <td>14.0</td>\n",
       "      <td>180.0</td>\n",
       "      <td>0.114262</td>\n",
       "      <td>0.0501</td>\n",
       "      <td>569978</td>\n",
       "      <td>86.270782</td>\n",
       "      <td>0.017220</td>\n",
       "      <td>86.270782</td>\n",
       "    </tr>\n",
       "    <tr>\n",
       "      <th>290</th>\n",
       "      <td>14.0</td>\n",
       "      <td>185.0</td>\n",
       "      <td>0.111068</td>\n",
       "      <td>0.0458</td>\n",
       "      <td>569978</td>\n",
       "      <td>83.859051</td>\n",
       "      <td>0.018310</td>\n",
       "      <td>83.859051</td>\n",
       "    </tr>\n",
       "    <tr>\n",
       "      <th>291</th>\n",
       "      <td>14.0</td>\n",
       "      <td>190.0</td>\n",
       "      <td>0.097216</td>\n",
       "      <td>0.0418</td>\n",
       "      <td>569978</td>\n",
       "      <td>73.399931</td>\n",
       "      <td>0.017560</td>\n",
       "      <td>73.399931</td>\n",
       "    </tr>\n",
       "    <tr>\n",
       "      <th>292</th>\n",
       "      <td>14.0</td>\n",
       "      <td>195.0</td>\n",
       "      <td>0.092475</td>\n",
       "      <td>0.0383</td>\n",
       "      <td>569978</td>\n",
       "      <td>69.820023</td>\n",
       "      <td>0.018230</td>\n",
       "      <td>69.820023</td>\n",
       "    </tr>\n",
       "    <tr>\n",
       "      <th>293</th>\n",
       "      <td>14.0</td>\n",
       "      <td>200.0</td>\n",
       "      <td>0.087073</td>\n",
       "      <td>0.0351</td>\n",
       "      <td>569978</td>\n",
       "      <td>65.741498</td>\n",
       "      <td>0.018730</td>\n",
       "      <td>65.741498</td>\n",
       "    </tr>\n",
       "    <tr>\n",
       "      <th>294</th>\n",
       "      <td>15.0</td>\n",
       "      <td>100.0</td>\n",
       "      <td>0.448612</td>\n",
       "      <td>0.3315</td>\n",
       "      <td>569978</td>\n",
       "      <td>338.788738</td>\n",
       "      <td>0.010220</td>\n",
       "      <td>338.788738</td>\n",
       "    </tr>\n",
       "    <tr>\n",
       "      <th>295</th>\n",
       "      <td>15.0</td>\n",
       "      <td>105.0</td>\n",
       "      <td>0.374119</td>\n",
       "      <td>0.2848</td>\n",
       "      <td>569978</td>\n",
       "      <td>282.518191</td>\n",
       "      <td>0.009920</td>\n",
       "      <td>282.518191</td>\n",
       "    </tr>\n",
       "    <tr>\n",
       "      <th>296</th>\n",
       "      <td>15.0</td>\n",
       "      <td>110.0</td>\n",
       "      <td>0.357106</td>\n",
       "      <td>0.2465</td>\n",
       "      <td>569978</td>\n",
       "      <td>269.667684</td>\n",
       "      <td>0.010940</td>\n",
       "      <td>269.667684</td>\n",
       "    </tr>\n",
       "    <tr>\n",
       "      <th>297</th>\n",
       "      <td>15.0</td>\n",
       "      <td>115.0</td>\n",
       "      <td>0.336130</td>\n",
       "      <td>0.2142</td>\n",
       "      <td>569978</td>\n",
       "      <td>253.824185</td>\n",
       "      <td>0.011850</td>\n",
       "      <td>253.824185</td>\n",
       "    </tr>\n",
       "    <tr>\n",
       "      <th>298</th>\n",
       "      <td>15.0</td>\n",
       "      <td>120.0</td>\n",
       "      <td>0.278798</td>\n",
       "      <td>0.1873</td>\n",
       "      <td>569978</td>\n",
       "      <td>210.522680</td>\n",
       "      <td>0.011240</td>\n",
       "      <td>210.522680</td>\n",
       "    </tr>\n",
       "    <tr>\n",
       "      <th>299</th>\n",
       "      <td>15.0</td>\n",
       "      <td>125.0</td>\n",
       "      <td>0.277706</td>\n",
       "      <td>0.1646</td>\n",
       "      <td>569978</td>\n",
       "      <td>209.697950</td>\n",
       "      <td>0.012740</td>\n",
       "      <td>209.697950</td>\n",
       "    </tr>\n",
       "    <tr>\n",
       "      <th>300</th>\n",
       "      <td>15.0</td>\n",
       "      <td>130.0</td>\n",
       "      <td>0.239377</td>\n",
       "      <td>0.1453</td>\n",
       "      <td>569978</td>\n",
       "      <td>180.750837</td>\n",
       "      <td>0.012440</td>\n",
       "      <td>180.750837</td>\n",
       "    </tr>\n",
       "    <tr>\n",
       "      <th>301</th>\n",
       "      <td>15.0</td>\n",
       "      <td>135.0</td>\n",
       "      <td>0.222262</td>\n",
       "      <td>0.1289</td>\n",
       "      <td>569978</td>\n",
       "      <td>167.825594</td>\n",
       "      <td>0.013020</td>\n",
       "      <td>167.825594</td>\n",
       "    </tr>\n",
       "    <tr>\n",
       "      <th>302</th>\n",
       "      <td>15.0</td>\n",
       "      <td>140.0</td>\n",
       "      <td>0.196981</td>\n",
       "      <td>0.1145</td>\n",
       "      <td>569978</td>\n",
       "      <td>148.733926</td>\n",
       "      <td>0.012990</td>\n",
       "      <td>148.733926</td>\n",
       "    </tr>\n",
       "    <tr>\n",
       "      <th>303</th>\n",
       "      <td>15.0</td>\n",
       "      <td>145.0</td>\n",
       "      <td>0.181642</td>\n",
       "      <td>0.1022</td>\n",
       "      <td>569978</td>\n",
       "      <td>137.150554</td>\n",
       "      <td>0.013420</td>\n",
       "      <td>137.150554</td>\n",
       "    </tr>\n",
       "    <tr>\n",
       "      <th>304</th>\n",
       "      <td>15.0</td>\n",
       "      <td>150.0</td>\n",
       "      <td>0.168322</td>\n",
       "      <td>0.0915</td>\n",
       "      <td>569978</td>\n",
       "      <td>127.092038</td>\n",
       "      <td>0.013890</td>\n",
       "      <td>127.092038</td>\n",
       "    </tr>\n",
       "    <tr>\n",
       "      <th>305</th>\n",
       "      <td>15.0</td>\n",
       "      <td>155.0</td>\n",
       "      <td>0.142244</td>\n",
       "      <td>0.0823</td>\n",
       "      <td>569978</td>\n",
       "      <td>107.399910</td>\n",
       "      <td>0.013050</td>\n",
       "      <td>107.399910</td>\n",
       "    </tr>\n",
       "    <tr>\n",
       "      <th>306</th>\n",
       "      <td>15.0</td>\n",
       "      <td>160.0</td>\n",
       "      <td>0.140234</td>\n",
       "      <td>0.0742</td>\n",
       "      <td>569978</td>\n",
       "      <td>105.882138</td>\n",
       "      <td>0.014270</td>\n",
       "      <td>105.882138</td>\n",
       "    </tr>\n",
       "    <tr>\n",
       "      <th>307</th>\n",
       "      <td>15.0</td>\n",
       "      <td>165.0</td>\n",
       "      <td>0.134347</td>\n",
       "      <td>0.0670</td>\n",
       "      <td>569978</td>\n",
       "      <td>101.436828</td>\n",
       "      <td>0.015140</td>\n",
       "      <td>101.436828</td>\n",
       "    </tr>\n",
       "    <tr>\n",
       "      <th>308</th>\n",
       "      <td>15.0</td>\n",
       "      <td>170.0</td>\n",
       "      <td>0.122841</td>\n",
       "      <td>0.0607</td>\n",
       "      <td>569978</td>\n",
       "      <td>92.748677</td>\n",
       "      <td>0.015280</td>\n",
       "      <td>92.748677</td>\n",
       "    </tr>\n",
       "    <tr>\n",
       "      <th>309</th>\n",
       "      <td>15.0</td>\n",
       "      <td>175.0</td>\n",
       "      <td>0.109976</td>\n",
       "      <td>0.0551</td>\n",
       "      <td>569978</td>\n",
       "      <td>83.034504</td>\n",
       "      <td>0.015070</td>\n",
       "      <td>83.034504</td>\n",
       "    </tr>\n",
       "    <tr>\n",
       "      <th>310</th>\n",
       "      <td>15.0</td>\n",
       "      <td>180.0</td>\n",
       "      <td>0.100064</td>\n",
       "      <td>0.0501</td>\n",
       "      <td>569978</td>\n",
       "      <td>75.550212</td>\n",
       "      <td>0.015080</td>\n",
       "      <td>75.550212</td>\n",
       "    </tr>\n",
       "    <tr>\n",
       "      <th>311</th>\n",
       "      <td>15.0</td>\n",
       "      <td>185.0</td>\n",
       "      <td>0.091294</td>\n",
       "      <td>0.0458</td>\n",
       "      <td>569978</td>\n",
       "      <td>68.928145</td>\n",
       "      <td>0.015050</td>\n",
       "      <td>68.928145</td>\n",
       "    </tr>\n",
       "    <tr>\n",
       "      <th>312</th>\n",
       "      <td>15.0</td>\n",
       "      <td>190.0</td>\n",
       "      <td>0.087805</td>\n",
       "      <td>0.0418</td>\n",
       "      <td>569978</td>\n",
       "      <td>66.293972</td>\n",
       "      <td>0.015860</td>\n",
       "      <td>66.293972</td>\n",
       "    </tr>\n",
       "    <tr>\n",
       "      <th>313</th>\n",
       "      <td>15.0</td>\n",
       "      <td>195.0</td>\n",
       "      <td>0.080504</td>\n",
       "      <td>0.0383</td>\n",
       "      <td>569978</td>\n",
       "      <td>60.781330</td>\n",
       "      <td>0.015870</td>\n",
       "      <td>60.781330</td>\n",
       "    </tr>\n",
       "    <tr>\n",
       "      <th>314</th>\n",
       "      <td>15.0</td>\n",
       "      <td>200.0</td>\n",
       "      <td>0.072848</td>\n",
       "      <td>0.0351</td>\n",
       "      <td>569978</td>\n",
       "      <td>55.001003</td>\n",
       "      <td>0.015670</td>\n",
       "      <td>55.001003</td>\n",
       "    </tr>\n",
       "  </tbody>\n",
       "</table>\n",
       "<p>315 rows × 8 columns</p>\n",
       "</div>"
      ],
      "text/plain": [
       "     DeltaM    MDF  Significance      XS       B            S  Efficiency  \\\n",
       "0       1.0  100.0      0.722389  0.3315  569978   545.642195    0.016460   \n",
       "1       1.0  105.0      0.599934  0.2848  569978   453.111492    0.015910   \n",
       "2       1.0  110.0      0.497748  0.2465  569978   375.908144    0.015250   \n",
       "3       1.0  115.0      0.444453  0.2142  569978   335.646965    0.015670   \n",
       "4       1.0  120.0      0.389396  0.1873  569978   294.057684    0.015700   \n",
       "5       1.0  125.0      0.327830  0.1646  569978   247.555188    0.015040   \n",
       "6       1.0  130.0      0.284396  0.1453  569978   214.750572    0.014780   \n",
       "7       1.0  135.0      0.244792  0.1289  569978   184.840304    0.014340   \n",
       "8       1.0  140.0      0.214872  0.1145  569978   162.244758    0.014170   \n",
       "9       1.0  145.0      0.185432  0.1022  569978   140.012582    0.013700   \n",
       "10      1.0  150.0      0.163475  0.0915  569978   123.431899    0.013490   \n",
       "11      1.0  155.0      0.148239  0.0823  569978   111.926819    0.013600   \n",
       "12      1.0  160.0      0.124413  0.0742  569978    93.935682    0.012660   \n",
       "13      1.0  165.0      0.107817  0.0670  569978    81.404291    0.012150   \n",
       "14      1.0  170.0      0.100332  0.0607  569978    75.752570    0.012480   \n",
       "15      1.0  175.0      0.085238  0.0551  569978    64.356047    0.011680   \n",
       "16      1.0  180.0      0.078566  0.0501  569978    59.317669    0.011840   \n",
       "17      1.0  185.0      0.065939  0.0458  569978    49.783991    0.010870   \n",
       "18      1.0  190.0      0.063613  0.0418  569978    48.027632    0.011490   \n",
       "19      1.0  195.0      0.057830  0.0383  569978    43.661447    0.011400   \n",
       "20      1.0  200.0      0.051557  0.0351  569978    38.925410    0.011090   \n",
       "21      2.0  100.0      2.004840  0.3315  569978  1515.602822    0.045720   \n",
       "22      2.0  105.0      1.779560  0.2848  569978  1345.096759    0.047230   \n",
       "23      2.0  110.0      1.536900  0.2465  569978  1161.493294    0.047119   \n",
       "24      2.0  115.0      1.403090  0.2142  569978  1060.274065    0.049499   \n",
       "25      2.0  120.0      1.200280  0.1873  569978   906.894662    0.048419   \n",
       "26      2.0  125.0      1.076030  0.1646  569978   812.948284    0.049389   \n",
       "27      2.0  130.0      0.974353  0.1453  569978   736.081022    0.050659   \n",
       "28      2.0  135.0      0.833743  0.1289  569978   629.797673    0.048859   \n",
       "29      2.0  140.0      0.784888  0.1145  569978   592.874114    0.051779   \n",
       "..      ...    ...           ...     ...     ...          ...         ...   \n",
       "285    14.0  160.0      0.163424  0.0742  569978   123.393388    0.016630   \n",
       "286    14.0  165.0      0.140114  0.0670  569978   105.791525    0.015790   \n",
       "287    14.0  170.0      0.127825  0.0607  569978    96.512066    0.015900   \n",
       "288    14.0  175.0      0.124060  0.0551  569978    93.669134    0.017000   \n",
       "289    14.0  180.0      0.114262  0.0501  569978    86.270782    0.017220   \n",
       "290    14.0  185.0      0.111068  0.0458  569978    83.859051    0.018310   \n",
       "291    14.0  190.0      0.097216  0.0418  569978    73.399931    0.017560   \n",
       "292    14.0  195.0      0.092475  0.0383  569978    69.820023    0.018230   \n",
       "293    14.0  200.0      0.087073  0.0351  569978    65.741498    0.018730   \n",
       "294    15.0  100.0      0.448612  0.3315  569978   338.788738    0.010220   \n",
       "295    15.0  105.0      0.374119  0.2848  569978   282.518191    0.009920   \n",
       "296    15.0  110.0      0.357106  0.2465  569978   269.667684    0.010940   \n",
       "297    15.0  115.0      0.336130  0.2142  569978   253.824185    0.011850   \n",
       "298    15.0  120.0      0.278798  0.1873  569978   210.522680    0.011240   \n",
       "299    15.0  125.0      0.277706  0.1646  569978   209.697950    0.012740   \n",
       "300    15.0  130.0      0.239377  0.1453  569978   180.750837    0.012440   \n",
       "301    15.0  135.0      0.222262  0.1289  569978   167.825594    0.013020   \n",
       "302    15.0  140.0      0.196981  0.1145  569978   148.733926    0.012990   \n",
       "303    15.0  145.0      0.181642  0.1022  569978   137.150554    0.013420   \n",
       "304    15.0  150.0      0.168322  0.0915  569978   127.092038    0.013890   \n",
       "305    15.0  155.0      0.142244  0.0823  569978   107.399910    0.013050   \n",
       "306    15.0  160.0      0.140234  0.0742  569978   105.882138    0.014270   \n",
       "307    15.0  165.0      0.134347  0.0670  569978   101.436828    0.015140   \n",
       "308    15.0  170.0      0.122841  0.0607  569978    92.748677    0.015280   \n",
       "309    15.0  175.0      0.109976  0.0551  569978    83.034504    0.015070   \n",
       "310    15.0  180.0      0.100064  0.0501  569978    75.550212    0.015080   \n",
       "311    15.0  185.0      0.091294  0.0458  569978    68.928145    0.015050   \n",
       "312    15.0  190.0      0.087805  0.0418  569978    66.293972    0.015860   \n",
       "313    15.0  195.0      0.080504  0.0383  569978    60.781330    0.015870   \n",
       "314    15.0  200.0      0.072848  0.0351  569978    55.001003    0.015670   \n",
       "\n",
       "             tmp  \n",
       "0     545.642195  \n",
       "1     453.111492  \n",
       "2     375.908144  \n",
       "3     335.646965  \n",
       "4     294.057684  \n",
       "5     247.555188  \n",
       "6     214.750572  \n",
       "7     184.840304  \n",
       "8     162.244758  \n",
       "9     140.012582  \n",
       "10    123.431899  \n",
       "11    111.926819  \n",
       "12     93.935682  \n",
       "13     81.404291  \n",
       "14     75.752570  \n",
       "15     64.356047  \n",
       "16     59.317669  \n",
       "17     49.783991  \n",
       "18     48.027632  \n",
       "19     43.661447  \n",
       "20     38.925410  \n",
       "21   1515.602822  \n",
       "22   1345.096759  \n",
       "23   1161.493294  \n",
       "24   1060.274065  \n",
       "25    906.894662  \n",
       "26    812.948284  \n",
       "27    736.081022  \n",
       "28    629.797673  \n",
       "29    592.874114  \n",
       "..           ...  \n",
       "285   123.393388  \n",
       "286   105.791525  \n",
       "287    96.512066  \n",
       "288    93.669134  \n",
       "289    86.270782  \n",
       "290    83.859051  \n",
       "291    73.399931  \n",
       "292    69.820023  \n",
       "293    65.741498  \n",
       "294   338.788738  \n",
       "295   282.518191  \n",
       "296   269.667684  \n",
       "297   253.824185  \n",
       "298   210.522680  \n",
       "299   209.697950  \n",
       "300   180.750837  \n",
       "301   167.825594  \n",
       "302   148.733926  \n",
       "303   137.150554  \n",
       "304   127.092038  \n",
       "305   107.399910  \n",
       "306   105.882138  \n",
       "307   101.436828  \n",
       "308    92.748677  \n",
       "309    83.034504  \n",
       "310    75.550212  \n",
       "311    68.928145  \n",
       "312    66.293972  \n",
       "313    60.781330  \n",
       "314    55.001003  \n",
       "\n",
       "[315 rows x 8 columns]"
      ]
     },
     "execution_count": 57,
     "metadata": {},
     "output_type": "execute_result"
    }
   ],
   "source": [
    "df['tmp']=df.Efficiency*100000*df.XS\n",
    "df"
   ]
  },
  {
   "cell_type": "code",
   "execution_count": 59,
   "metadata": {},
   "outputs": [
    {
     "name": "stdout",
     "output_type": "stream",
     "text": [
      "0 0\n",
      "1 1\n",
      "2 2\n",
      "3 3\n",
      "4 4\n",
      "5 5\n",
      "6 6\n",
      "7 7\n",
      "8 8\n",
      "9 9\n",
      "10 10\n",
      "11 11\n",
      "12 12\n",
      "13 13\n",
      "14 14\n",
      "15 0\n",
      "16 1\n",
      "17 2\n",
      "18 3\n",
      "19 4\n",
      "20 5\n",
      "21 6\n"
     ]
    },
    {
     "ename": "IndexError",
     "evalue": "index 21 is out of bounds for axis 0 with size 21",
     "output_type": "error",
     "traceback": [
      "\u001b[0;31m---------------------------------------------------------------------------\u001b[0m",
      "\u001b[0;31mIndexError\u001b[0m                                Traceback (most recent call last)",
      "\u001b[0;32m<ipython-input-59-390b015f0aed>\u001b[0m in \u001b[0;36m<module>\u001b[0;34m()\u001b[0m\n\u001b[1;32m      4\u001b[0m     \u001b[0;32mfor\u001b[0m \u001b[0ml\u001b[0m \u001b[0;32min\u001b[0m \u001b[0mdf\u001b[0m\u001b[0;34m.\u001b[0m\u001b[0mDeltaM\u001b[0m\u001b[0;34m.\u001b[0m\u001b[0munique\u001b[0m\u001b[0;34m(\u001b[0m\u001b[0;34m)\u001b[0m\u001b[0;34m:\u001b[0m\u001b[0;34m\u001b[0m\u001b[0m\n\u001b[1;32m      5\u001b[0m         \u001b[0mprint\u001b[0m\u001b[0;34m(\u001b[0m \u001b[0mmm\u001b[0m\u001b[0;34m,\u001b[0m\u001b[0mll\u001b[0m\u001b[0;34m)\u001b[0m\u001b[0;34m\u001b[0m\u001b[0m\n\u001b[0;32m----> 6\u001b[0;31m         \u001b[0mEff\u001b[0m\u001b[0;34m[\u001b[0m\u001b[0mmm\u001b[0m\u001b[0;34m,\u001b[0m\u001b[0mll\u001b[0m\u001b[0;34m]\u001b[0m\u001b[0;34m=\u001b[0m\u001b[0mdf\u001b[0m\u001b[0;34m[\u001b[0m\u001b[0mnp\u001b[0m\u001b[0;34m.\u001b[0m\u001b[0mlogical_and\u001b[0m\u001b[0;34m(\u001b[0m\u001b[0mdf\u001b[0m\u001b[0;34m.\u001b[0m\u001b[0mDeltaM\u001b[0m\u001b[0;34m==\u001b[0m\u001b[0ml\u001b[0m\u001b[0;34m,\u001b[0m\u001b[0mdf\u001b[0m\u001b[0;34m.\u001b[0m\u001b[0mMDF\u001b[0m\u001b[0;34m==\u001b[0m\u001b[0mm\u001b[0m\u001b[0;34m)\u001b[0m\u001b[0;34m]\u001b[0m\u001b[0;34m.\u001b[0m\u001b[0mreset_index\u001b[0m\u001b[0;34m(\u001b[0m\u001b[0mdrop\u001b[0m\u001b[0;34m=\u001b[0m\u001b[0;32mTrue\u001b[0m\u001b[0;34m)\u001b[0m\u001b[0;34m.\u001b[0m\u001b[0mEfficiency\u001b[0m\u001b[0;34m[\u001b[0m\u001b[0;36m0\u001b[0m\u001b[0;34m]\u001b[0m\u001b[0;34m\u001b[0m\u001b[0m\n\u001b[0m\u001b[1;32m      7\u001b[0m         \u001b[0mmm\u001b[0m\u001b[0;34m=\u001b[0m\u001b[0mmm\u001b[0m\u001b[0;34m+\u001b[0m\u001b[0;36m1\u001b[0m\u001b[0;34m\u001b[0m\u001b[0m\n\u001b[1;32m      8\u001b[0m         \u001b[0mll\u001b[0m\u001b[0;34m=\u001b[0m\u001b[0mll\u001b[0m\u001b[0;34m+\u001b[0m\u001b[0;36m1\u001b[0m\u001b[0;34m\u001b[0m\u001b[0m\n",
      "\u001b[0;31mIndexError\u001b[0m: index 21 is out of bounds for axis 0 with size 21"
     ]
    }
   ],
   "source": [
    "\n",
    "for m in df.MDF.unique():\n",
    "    ll=0\n",
    "    for l in df.DeltaM.unique():\n",
    "        print( mm,ll)\n",
    "        Eff[mm,ll]=df[np.logical_and(df.DeltaM==l,df.MDF==m)].reset_index(drop=True).Efficiency[0]\n",
    "        mm=mm+1\n",
    "        ll=ll+1"
   ]
  },
  {
   "cell_type": "code",
   "execution_count": 49,
   "metadata": {},
   "outputs": [
    {
     "data": {
      "text/plain": [
       "0.0156698015668"
      ]
     },
     "execution_count": 49,
     "metadata": {},
     "output_type": "execute_result"
    }
   ],
   "source": []
  },
  {
   "cell_type": "code",
   "execution_count": 59,
   "metadata": {},
   "outputs": [],
   "source": [
    "NWj=6930.\n",
    "NWZ=1049.\n",
    "Nt=220."
   ]
  },
  {
   "cell_type": "code",
   "execution_count": 60,
   "metadata": {},
   "outputs": [],
   "source": [
    "#in pb!\n",
    "XSWj=3091.5\n",
    "XSt=288.17\n",
    "XSWZ=22.82\n"
   ]
  },
  {
   "cell_type": "code",
   "execution_count": 61,
   "metadata": {},
   "outputs": [],
   "source": [
    "#generated events (NumberGeneratedSignal, etc):\n",
    "NGS=1E5\n",
    "NGWj=4031959\n",
    "#NGWZ=45693\n",
    "NGWZ=173715 \n",
    "NGt=255207"
   ]
  },
  {
   "cell_type": "code",
   "execution_count": 62,
   "metadata": {},
   "outputs": [],
   "source": [
    "NS=2053        #test\n",
    "Eff1=NS/NGS\n",
    "Lumi=1E5\n",
    "\n",
    "S100=Eff1*XS100*Lumi\n",
    "\n",
    "#generated Lumi (effectiveLuminosity_for_Generated...):\n",
    "LGS100=NGS/XS100\n",
    "\n",
    "LGWj=NGWj/XSWj\n",
    "LGWZ=NGWZ/XSWZ\n",
    "LGt=NGt/XSt\n",
    "\n",
    "#for 100/fb=1E5/pb: [here in pb] \n",
    "\n",
    "k100Sx=Lumi/LGS100\n",
    "k100Wj=Lumi/LGWj\n",
    "k100WZ=Lumi/LGWZ\n",
    "k100t=Lumi/LGt\n",
    "\n",
    "#scalingfactor k [Signal MF100,MS90]\n",
    "#scaling[L=100/fb]: realXS/nominalXS[n of generated events/L[pb]] \n",
    "B100=NWj*k100Wj + NWZ*k100WZ + Nt*k100t\n",
    "\n",
    "B100,S100\n",
    "def S(sigma,B):\n",
    "    return (sigma**2+np.sqrt(4*B*sigma**2+sigma**4))/2."
   ]
  },
  {
   "cell_type": "code",
   "execution_count": 63,
   "metadata": {},
   "outputs": [
    {
     "data": {
      "text/plain": [
       "0.90091549184661956"
      ]
     },
     "execution_count": 63,
     "metadata": {},
     "output_type": "execute_result"
    }
   ],
   "source": [
    "sigma100=S100/np.sqrt(S100+B100)\n",
    "sigma100"
   ]
  },
  {
   "cell_type": "code",
   "execution_count": 64,
   "metadata": {},
   "outputs": [
    {
     "data": {
      "text/plain": [
       "680.56950000000006"
      ]
     },
     "execution_count": 64,
     "metadata": {},
     "output_type": "execute_result"
    }
   ],
   "source": [
    "S(sigma,B100)"
   ]
  },
  {
   "cell_type": "code",
   "execution_count": 50,
   "metadata": {},
   "outputs": [
    {
     "ename": "NameError",
     "evalue": "name 'SS' is not defined",
     "output_type": "error",
     "traceback": [
      "\u001b[0;31m---------------------------------------------------------------------------\u001b[0m",
      "\u001b[0;31mNameError\u001b[0m                                 Traceback (most recent call last)",
      "\u001b[0;32m<ipython-input-50-8e018433dfe9>\u001b[0m in \u001b[0;36m<module>\u001b[0;34m()\u001b[0m\n\u001b[0;32m----> 1\u001b[0;31m \u001b[0msigma\u001b[0m\u001b[0;34m=\u001b[0m\u001b[0mSS\u001b[0m\u001b[0;34m/\u001b[0m\u001b[0mnp\u001b[0m\u001b[0;34m.\u001b[0m\u001b[0msqrt\u001b[0m\u001b[0;34m(\u001b[0m\u001b[0mSS\u001b[0m\u001b[0;34m+\u001b[0m\u001b[0mNB100\u001b[0m\u001b[0;34m)\u001b[0m\u001b[0;34m\u001b[0m\u001b[0m\n\u001b[0m\u001b[1;32m      2\u001b[0m \u001b[0msigma\u001b[0m\u001b[0;34m\u001b[0m\u001b[0m\n",
      "\u001b[0;31mNameError\u001b[0m: name 'SS' is not defined"
     ]
    }
   ],
   "source": [
    "sigma=SS100/np.sqrt(SS+NB100)\n",
    "sigma"
   ]
  },
  {
   "cell_type": "markdown",
   "metadata": {},
   "source": [
    "## Initialization"
   ]
  },
  {
   "cell_type": "code",
   "execution_count": 23,
   "metadata": {},
   "outputs": [
    {
     "name": "stdout",
     "output_type": "stream",
     "text": [
      "Populating the interactive namespace from numpy and matplotlib\n"
     ]
    }
   ],
   "source": [
    "%pylab inline"
   ]
  },
  {
   "cell_type": "markdown",
   "metadata": {},
   "source": [
    "The number of background events after the cuts is given by `NB` for a luminosity of $\\mathcal{L}=100\\ \\text{fb}^{-1}$.\n",
    "\n",
    "(check numbers!)"
   ]
  },
  {
   "cell_type": "code",
   "execution_count": 70,
   "metadata": {},
   "outputs": [],
   "source": [
    "import numpy as np\n",
    "import scipy.optimize as optimization\n",
    "import scipy.ndimage\n",
    "import pandas as pd\n",
    "from curvefit import *\n",
    "import sys\n",
    "from matplotlib.colors import LogNorm\n",
    "import matplotlib.pyplot as plt\n",
    "\n",
    "# change vars:\n",
    "# Eff now NS/NS_orig, with NS_orig=100k.\n",
    "\n",
    "##Zvv=500. ## whats this?\n",
    "###NB=Zvv/0.7 #Background to 30fb^-1 (why? whats 0.7)\n",
    "#set NB further below\n",
    "\n",
    "########## warning: need bkg for 30/fb.\n",
    "# NB30=NB100*0.3\n",
    "\n",
    "def func(x, a, b, c, d, e):\n",
    "    return a + b*x + c*x*x + d*x*x*x + e*x*x*x*x\n",
    "\n",
    "def Z(S,B):\n",
    "    return S/np.sqrt(S+B)\n",
    "\n",
    "def ZZ(S,B):\n",
    "    return S/np.sqrt(S+B)\n",
    "\n",
    "\n",
    "def significance(XS,Eff,Lumi,NB):\n",
    "    '''XS: Cross section in pb \n",
    "       Eff: Cut efficiency in % ---> now Eff, not Eff/100\n",
    "       Lumi in pb^-1\n",
    "       TB: SM Backound at 30000 pb^-1\n",
    "       NB: SM bkg for 100/fb=100000/pb\n",
    "    '''\n",
    "    LumiNorm=1.0E5\n",
    "    Evts=Lumi*(XS.transpose())*(Eff)\n",
    "    return Z(Evts,NB*Lumi/LumiNorm) #\n",
    "\n",
    "def g(x,excl=5):\n",
    "    return excl*np.ones_like(x)\n",
    "\n",
    "def S(sigma,B):\n",
    "    return (sigma**2+np.sqrt(4*B*sigma**2+sigma**4))/2."
   ]
  },
  {
   "cell_type": "markdown",
   "metadata": {
    "collapsed": true
   },
   "source": [
    "# By Jake VanderPlas\n",
    "# License: BSD-style\n",
    "\n",
    "import matplotlib.pyplot as plt\n",
    "import numpy as np\n",
    "\n",
    "\n",
    "def discrete_cmap(N, base_cmap=None):\n",
    "    \"\"\"Create an N-bin discrete colormap from the specified input map\"\"\"\n",
    "\n",
    "    # Note that if base_cmap is a string or None, you can simply do\n",
    "    #    return plt.cm.get_cmap(base_cmap, N)\n",
    "    # The following works for string, None, or a colormap instance:\n",
    "\n",
    "    base = plt.cm.get_cmap(base_cmap)\n",
    "    color_list = base(np.linspace(0, 1, N))\n",
    "    cmap_name = base.name + str(N)\n",
    "    return base.from_list(cmap_name, color_list, N)\n",
    "\n"
   ]
  },
  {
   "cell_type": "markdown",
   "metadata": {},
   "source": [
    "# Full dataframe"
   ]
  },
  {
   "cell_type": "markdown",
   "metadata": {},
   "source": [
    "Intersection of two graphs in Python: https://stackoverflow.com/a/28766902/2268280. See also: https://stackoverflow.com/a/31541338/2268280"
   ]
  },
  {
   "cell_type": "markdown",
   "metadata": {},
   "source": [
    "## Data..."
   ]
  },
  {
   "cell_type": "markdown",
   "metadata": {},
   "source": [
    "Replace to MF,MS\n",
    "\n",
    "grid of $m==mF=11$ values of $M_F$, and $l==lFS=10$ values of deltaM.  \n",
    "\n",
    "therefore XS=\n",
    "  ( [XS(MF1,DeltaM1), XS(MF1,DeltaM2)],\n",
    "    [XS(MF2,DeltaM1), XS(MF2,DeltaM2)] ) =\n",
    "  [ [A, A], \n",
    "    [B, B]]\n",
    "\n",
    "Orig:\n",
    "* We require a $l\\times m$ matrix of cross sections for each $l$ and $m$ values denoted as: `XS`\n",
    "\n",
    "change: XST is $m\\times l$\n",
    "\n",
    "\n",
    "* We require a $m\\times l$ matrix of cut efficiences (in %) for each $m$ and $l$ values denoted as : `Eff`"
   ]
  },
  {
   "cell_type": "code",
   "execution_count": 25,
   "metadata": {},
   "outputs": [],
   "source": [
    "# prod cross sections in fb.\n",
    "XSfb50=5135.7\n",
    "XSfb60=1816.8\n",
    "XSfb70=1032.2\n",
    "XSfb80=668.4\n",
    "XSfb90=461.6\n",
    "\n",
    "XSfb100=331.5\n",
    "XSfb105=284.8\n",
    "XSfb110=246.5\n",
    "XSfb115=214.2\n",
    "XSfb120=187.3\n",
    "XSfb125=164.6\n",
    "XSfb130=145.3\n",
    "XSfb135=128.9\n",
    "XSfb140=114.5\n",
    "XSfb145=102.2\n",
    "XSfb150=91.5\n",
    "\n",
    "XSfb155=82.3\n",
    "XSfb160=74.2\n",
    "XSfb165=67.0\n",
    "XSfb170=60.7\n",
    "XSfb175=55.1\n",
    "XSfb180=50.1\n",
    "XSfb185=45.8\n",
    "XSfb190=41.8\n",
    "XSfb195=38.3\n",
    "XSfb200=35.1\n"
   ]
  },
  {
   "cell_type": "code",
   "execution_count": 26,
   "metadata": {},
   "outputs": [],
   "source": [
    "# prod cross sections in pb.\n",
    "XS100=XSfb100/1E3\n",
    "XS105=XSfb105/1E3\n",
    "XS110=XSfb110/1E3\n",
    "XS115=XSfb115/1E3\n",
    "XS120=XSfb120/1E3\n",
    "XS125=XSfb125/1E3\n",
    "XS130=XSfb130/1E3\n",
    "XS135=XSfb135/1E3\n",
    "XS140=XSfb140/1E3\n",
    "XS145=XSfb145/1E3\n",
    "XS150=XSfb150/1E3\n",
    "\n",
    "XS155=XSfb155/1E3\n",
    "XS160=XSfb160/1E3\n",
    "XS165=XSfb165/1E3\n",
    "XS170=XSfb170/1E3\n",
    "XS175=XSfb175/1E3\n",
    "XS180=XSfb180/1E3\n",
    "XS185=XSfb185/1E3\n",
    "XS190=XSfb190/1E3\n",
    "XS195=XSfb195/1E3\n",
    "XS200=XSfb200/1E3\n"
   ]
  },
  {
   "cell_type": "code",
   "execution_count": 27,
   "metadata": {},
   "outputs": [],
   "source": [
    "#from significance.sh:\n",
    "#double xs_wjets=3092000.0; //fb\n",
    "#double xs_top=288000.2; //fb\n",
    "#double xs_wz=22820.0; //fb\n",
    "\n",
    "#in pb!\n",
    "#XSWj=3091.5\n",
    "#XSt=288.17\n",
    "#XSWZ=22.82\n"
   ]
  },
  {
   "cell_type": "markdown",
   "metadata": {
    "collapsed": true
   },
   "source": [
    "#generated events (NumberGeneratedSignal, etc):\n",
    "NGS=1E5\n",
    "NGWj=4031959\n",
    "NGWZ=45693\n",
    "Nt=255207\n",
    "\n",
    "#generated Lumi (effectiveLuminosity_for_Generated...):\n",
    "LGS100=NGS/XS100\n",
    "#etc.\n",
    "LGWj=NGWj/XSWj\n",
    "LGWZ=NGWZ/XSWZ\n",
    "LGt=Nt/XSt\n",
    "\n",
    "#for 100/fb=1E5/pb: [here in pb] \n",
    "Lumi=1E5\n",
    "k100Sx=Lumi/LGS100\n",
    "k100Wj=Lumi/LGWj\n",
    "k100WZ=Lumi/LGWZ\n",
    "k100t=Lumi/LGt\n",
    "\n",
    "#scalingfactor k [Signal MF100,MS90]\n",
    "#scaling[L=100/fb]: realXS/nominalXS[n of generated events/L[pb]] \n"
   ]
  },
  {
   "cell_type": "code",
   "execution_count": 28,
   "metadata": {},
   "outputs": [
    {
     "data": {
      "text/plain": [
       "(497313.3159340162, 12913.139337420487, 22809.068716767175)"
      ]
     },
     "execution_count": 28,
     "metadata": {},
     "output_type": "execute_result"
    }
   ],
   "source": [
    "#scenario 2040:\n",
    "NWj=6486\n",
    "NWZ=983\n",
    "Nt=202\n",
    "\n",
    "NSx=2053  #number of events for XS100 and DeltaM=10, SR2040, here as test\n",
    "NB100=NWj*k100Wj + NWZ*k100WZ + Nt*k100t\n",
    "NB2040=NB100 #for 100/fb\n",
    "\n",
    "NS100x=NSx*k100Sx  #number of events for XS100 and DeltaM=10, SR2040\n",
    "NWj*k100Wj , NWZ*k100WZ , Nt*k100t"
   ]
  },
  {
   "cell_type": "code",
   "execution_count": 29,
   "metadata": {},
   "outputs": [],
   "source": [
    "#scenario 1530:\n",
    "#NWj=\n",
    "#NWZ=\n",
    "#Nt=\n",
    "\n",
    "#NSx=  #number of events for XS100 and DeltaM=10, SR1530\n",
    "\n",
    "#NB100=NWj*k100Wj + NWZ*k100WZ + Nt*k100t\n",
    "#NB2040=NB100 #for 100/fb\n",
    "#NS100x=NSx*k100Sx  #number of events for XS100 and DeltaM=10\n",
    "#NWj*k100Wj , NWZ*k100WZ , Nt*k100t"
   ]
  },
  {
   "cell_type": "markdown",
   "metadata": {},
   "source": [
    "#somehow S eval in progs is a bit lower.... check. for this example, 1.17859 instead of 1.1405926,\n",
    "# -> factor 1.03332 , below, a factor 1.03 - almost effect of neglecting WZ, or twice... singletop.\n",
    "NB100,NS100x, NS100x/np.sqrt(NS100x+NB100)"
   ]
  },
  {
   "cell_type": "markdown",
   "metadata": {
    "collapsed": true
   },
   "source": [
    "#scenario 1020:\n",
    "NWj=911\n",
    "NWZ=126\n",
    "Nt=25\n",
    "\n",
    "NB100=NWj*k100Wj + NWZ*k100WZ + Nt*k100t\n",
    "NB1020=NB100\n",
    "\n",
    "NS100x=521*k100Sx  #number of events for XS100 and DeltaM=10"
   ]
  },
  {
   "cell_type": "markdown",
   "metadata": {},
   "source": [
    "#test!\n",
    "#somehow S eval in progs is a bit lower.... check. for this example, 1.17859 instead of 1.1405926,\n",
    "# -> factor 1.03332 \n",
    "NB100,NS100x, NS100x/np.sqrt(NS100x+NB100)"
   ]
  },
  {
   "cell_type": "markdown",
   "metadata": {
    "collapsed": true
   },
   "source": [
    "#chose scenario 2040. Need number of bkg for L=30/fb:\n",
    "L30=3E4\n",
    "L100=1E5\n",
    "rescale30=L30/Lumi\n",
    "rescale100=L100/Lumi\n",
    "NB30=NB2040*rescale30\n",
    "NB100=NB2040*rescale100"
   ]
  },
  {
   "cell_type": "code",
   "execution_count": 30,
   "metadata": {},
   "outputs": [],
   "source": [
    "deltaM=np.arange(1,11) #l=lFS=10\n",
    "deltaM15=np.arange(1,16)\n",
    "\n",
    "MFmax=200\n",
    "if (MFmax == 150):\n",
    "    MF100=np.array([100,105,110,115,120,125,130,135,140,145,150])   #m=mF=11\n",
    "    XSF=np.array([XS100,XS105,XS110,XS115,XS120,XS125,XS130,XS135,XS140,XS145,XS150])\n",
    "    XS=np.array([XSF,XSF,XSF,XSF,XSF,XSF,XSF,XSF,XSF,XSF])\n",
    "    MF=MF100\n",
    "elif (MFmax == 170):\n",
    "    MF100_170=np.array([100,105,110,115,120,125,130,135,140,145,150,155,160,165,170])   #m=mF=11\n",
    "    MH0170=MF100_170\n",
    "    XSFt=np.array([XS100,XS105,XS110,XS115,XS120,XS125,XS130,XS135,XS140,XS145,XS150,XS155,XS160,XS165,XS170])\n",
    "    XS=np.array([XSFt,XSFt,XSFt,XSFt,XSFt,XSFt,XSFt,XSFt,XSFt,XSFt])\n",
    "elif (MFmax == 180):\n",
    "    MF100=np.array([100,105,110,115,120,125,130,135,140,145,150,155,160,165,170,175,180])   #m=mF=11\n",
    "    MH0180=MF100\n",
    "    XSFt=np.array([XS100,XS105,XS110,XS115,XS120,XS125,XS130,XS135,XS140,XS145,XS150,XS155,XS160,XS165,XS170,XS175,XS180])\n",
    "    XS=np.array([XSFt,XSFt,XSFt,XSFt,XSFt,XSFt,XSFt,XSFt,XSFt,XSFt])\n",
    "elif (MFmax == 190):\n",
    "    MF100=np.array([100,105,110,115,120,125,130,135,140,145,150,155,160,165,170,175,180,185,190])   #m=mF=11\n",
    "    MH0190=MF100\n",
    "    XSFt=np.array([XS100,XS105,XS110,XS115,XS120,XS125,XS130,XS135,XS140,XS145,XS150,XS155,XS160,XS165,XS170,XS175,XS180,XS185,XS190])\n",
    "    XS=np.array([XSFt,XSFt,XSFt,XSFt,XSFt,XSFt,XSFt,XSFt,XSFt,XSFt])\n",
    "elif (MFmax == 200):\n",
    "    MF100=np.array([100,105,110,115,120,125,130,135,140,145,150,155,160,165,170,175,180,185,190,195,200])   #m=mF=11\n",
    "    MH0200=MF100\n",
    "    XSFt=np.array([XS100,XS105,XS110,XS115,XS120,XS125,XS130,XS135,XS140,XS145,XS150,XS155,XS160,XS165,XS170,XS175,XS180,XS185,XS190,XS195,XS200])\n",
    "    XS=np.array([XSFt,XSFt,XSFt,XSFt,XSFt,XSFt,XSFt,XSFt,XSFt,XSFt,XSFt,XSFt,XSFt,XSFt,XSFt])\n",
    "    deltaM=deltaM15\n",
    "else:\n",
    "    print \"warning! didnt find required value !!!!!!!!!!!!!!!!!!!!!!!!!!!!!!!!!!11\"\n",
    "    \n",
    "XST=XS.transpose()\n"
   ]
  },
  {
   "cell_type": "code",
   "execution_count": 31,
   "metadata": {},
   "outputs": [
    {
     "name": "stdout",
     "output_type": "stream",
     "text": [
      "warning: MF and MF100, uninify defs.\n"
     ]
    },
    {
     "data": {
      "text/plain": [
       "array([100, 105, 110, 115, 120, 125, 130, 135, 140, 145, 150, 155, 160,\n",
       "       165, 170, 175, 180, 185, 190, 195, 200])"
      ]
     },
     "execution_count": 31,
     "metadata": {},
     "output_type": "execute_result"
    }
   ],
   "source": [
    "print \"warning: MF and MF100, uninify defs.\"\n",
    "MH0=MF100\n",
    "MH0"
   ]
  },
  {
   "cell_type": "code",
   "execution_count": 32,
   "metadata": {},
   "outputs": [],
   "source": [
    "BB=29363406.30610757"
   ]
  },
  {
   "cell_type": "code",
   "execution_count": 33,
   "metadata": {},
   "outputs": [],
   "source": [
    "#scen=110.123520\n",
    "#scen=110.153020\n",
    "scen=110.204020\n",
    "#scen=0.0\n",
    "\n",
    "    \n",
    "if scen==110.204020:   #100-200 1-10 range\n",
    "    nsignallist=[ [  1022 ,  1168 ,  1257 ,  1552 ,  1753 ,  2053 ,  2298 ,  2834 ,  3231 ,  3816 ,  4413 ,  4892 ,  5118 ,  4572 ,  1646  ], [  992 ,  1190 ,  1400 ,  1530 ,  1915 ,  2167 ,  2452 ,  2997 ,  3394 ,  3987 ,  4596 ,  4980 ,  5404 ,  4723 ,  1591  ], [  1094 ,  1243 ,  1387 ,  1653 ,  1942 ,  2277 ,  2529 ,  2983 ,  3457 ,  4221 ,  4735 ,  5213 ,  5276 ,  4712 ,  1525  ], [  1185 ,  1272 ,  1551 ,  1695 ,  2098 ,  2343 ,  2697 ,  3184 ,  3633 ,  4314 ,  4906 ,  5414 ,  5490 ,  4950 ,  1567  ], [  1124 ,  1401 ,  1547 ,  1751 ,  2102 ,  2464 ,  2782 ,  3265 ,  3724 ,  4258 ,  5041 ,  5638 ,  5842 ,  4842 ,  1570  ], [  1274 ,  1374 ,  1571 ,  1749 ,  2116 ,  2476 ,  2796 ,  3391 ,  3874 ,  4437 ,  5145 ,  5660 ,  5853 ,  4939 ,  1504  ], [  1244 ,  1505 ,  1648 ,  1856 ,  2172 ,  2623 ,  2923 ,  3504 ,  4036 ,  4637 ,  5220 ,  5851 ,  6059 ,  5066 ,  1478  ], [  1302 ,  1424 ,  1640 ,  1917 ,  2211 ,  2625 ,  3036 ,  3523 ,  4003 ,  4586 ,  5334 ,  5976 ,  6008 ,  4886 ,  1434  ], [  1299 ,  1510 ,  1781 ,  1926 ,  2285 ,  2663 ,  3023 ,  3627 ,  4140 ,  4776 ,  5458 ,  6067 ,  6290 ,  5178 ,  1417  ], [  1342 ,  1495 ,  1769 ,  2007 ,  2316 ,  2712 ,  3083 ,  3715 ,  4270 ,  4956 ,  5645 ,  6152 ,  6167 ,  5152 ,  1370  ], [  1389 ,  1566 ,  1819 ,  2045 ,  2409 ,  2711 ,  3264 ,  3707 ,  4289 ,  4985 ,  5633 ,  6105 ,  6414 ,  5060 ,  1349  ], [  1305 ,  1555 ,  1792 ,  2067 ,  2367 ,  2866 ,  3402 ,  3849 ,  4447 ,  4977 ,  5719 ,  6283 ,  6465 ,  5211 ,  1360  ], [  1427 ,  1663 ,  1870 ,  2135 ,  2467 ,  2931 ,  3306 ,  3967 ,  4447 ,  5095 ,  5841 ,  6391 ,  6576 ,  5142 ,  1266  ], [  1514 ,  1579 ,  1889 ,  2138 ,  2485 ,  2878 ,  3353 ,  3941 ,  4508 ,  5151 ,  5841 ,  6593 ,  6663 ,  5236 ,  1215  ], [  1528 ,  1590 ,  1922 ,  2277 ,  2605 ,  2867 ,  3419 ,  4023 ,  4638 ,  5228 ,  6082 ,  6646 ,  6652 ,  5278 ,  1248  ], [  1507 ,  1700 ,  1945 ,  2275 ,  2594 ,  3138 ,  3412 ,  4025 ,  4496 ,  5142 ,  5876 ,  6809 ,  6786 ,  5154 ,  1168  ], [  1508 ,  1722 ,  1991 ,  2277 ,  2668 ,  3020 ,  3545 ,  3953 ,  4646 ,  5339 ,  6016 ,  6603 ,  6813 ,  5258 ,  1184  ], [  1505 ,  1831 ,  2001 ,  2371 ,  2604 ,  3015 ,  3457 ,  4083 ,  4741 ,  5557 ,  6041 ,  6661 ,  6840 ,  5129 ,  1087  ], [  1586 ,  1756 ,  2030 ,  2391 ,  2736 ,  3176 ,  3680 ,  4150 ,  4786 ,  5297 ,  6056 ,  6808 ,  6997 ,  5333 ,  1149  ], [  1587 ,  1823 ,  2025 ,  2426 ,  2734 ,  3114 ,  3558 ,  4275 ,  4855 ,  5525 ,  6200 ,  6813 ,  6991 ,  5413 ,  1140  ], [  1567 ,  1873 ,  2067 ,  2394 ,  2755 ,  3208 ,  3617 ,  4252 ,  4793 ,  5621 ,  6269 ,  6900 ,  7071 ,  5210 ,  1109  ]  ]\n",
    "    Signiflist=[ [ 0.448612, 0.512678, 0.551729, 0.681154, 0.769325, 0.900905, 1.00835, 1.24334, 1.41735, 1.67369, 1.9352, 2.14496, 2.2439, 2.00484, 0.722389 ], [ 0.374119, 0.44877, 0.527937, 0.576941, 0.722049, 0.817014, 0.924401, 1.12971, 1.27923, 1.50252, 1.73176, 1.87627, 2.0358, 1.77956, 0.599934 ], [ 0.357106, 0.40573, 0.452719, 0.539511, 0.633796, 0.743074, 0.825266, 0.973321, 1.12787, 1.3769, 1.54439, 1.70013, 1.72065, 1.5369, 0.497748 ], [ 0.33613, 0.360802, 0.439917, 0.480747, 0.595003, 0.664456, 0.764797, 0.902815, 1.03004, 1.22296, 1.39063, 1.53448, 1.556, 1.40309, 0.444453 ], [ 0.278798, 0.347489, 0.383693, 0.434275, 0.521298, 0.611038, 0.689862, 0.809569, 0.92331, 1.05561, 1.24957, 1.39742, 1.44793, 1.20028, 0.389396 ], [ 0.277706, 0.299499, 0.342431, 0.38122, 0.461189, 0.539624, 0.609337, 0.738943, 0.844136, 0.966734, 1.12088, 1.23298, 1.27499, 1.07603, 0.32783 ], [ 0.239377, 0.289591, 0.317101, 0.357114, 0.417899, 0.504643, 0.562339, 0.674065, 0.776353, 0.891891, 1.00395, 1.12522, 1.16519, 0.974353, 0.284396 ], [ 0.222262, 0.243085, 0.279951, 0.327225, 0.377397, 0.448042, 0.518169, 0.601254, 0.683137, 0.782578, 0.910143, 1.01961, 1.02507, 0.833743, 0.244792 ], [ 0.196981, 0.228972, 0.270058, 0.292041, 0.346464, 0.403763, 0.458329, 0.549871, 0.627612, 0.723981, 0.827307, 0.919561, 0.95334, 0.784888, 0.214872 ], [ 0.181642, 0.202348, 0.239428, 0.271635, 0.313448, 0.367029, 0.417225, 0.502725, 0.577801, 0.670587, 0.763767, 0.832326, 0.834354, 0.697095, 0.185432 ], [ 0.168322, 0.189768, 0.220423, 0.247804, 0.291904, 0.32849, 0.395479, 0.449138, 0.519629, 0.603918, 0.682386, 0.739537, 0.776949, 0.613001, 0.163475 ], [ 0.142244, 0.169491, 0.19532, 0.22529, 0.257982, 0.312357, 0.37076, 0.419462, 0.484611, 0.542347, 0.62317, 0.684598, 0.70442, 0.567836, 0.148239 ], [ 0.140234, 0.163424, 0.183763, 0.209801, 0.24242, 0.288007, 0.324847, 0.38978, 0.436929, 0.500576, 0.573841, 0.627853, 0.646019, 0.505192, 0.124413 ], [ 0.134347, 0.140114, 0.167619, 0.189711, 0.220497, 0.255363, 0.297501, 0.34966, 0.399953, 0.456984, 0.518178, 0.584865, 0.591072, 0.464522, 0.107817 ], [ 0.122841, 0.127825, 0.154512, 0.183048, 0.209412, 0.230471, 0.274837, 0.323379, 0.372802, 0.420213, 0.488833, 0.534147, 0.534629, 0.42423, 0.100332 ], [ 0.109976, 0.12406, 0.141937, 0.166016, 0.189292, 0.228984, 0.248974, 0.293696, 0.328057, 0.375182, 0.428722, 0.496773, 0.495095, 0.376057, 0.0852385 ], [ 0.100064, 0.114262, 0.13211, 0.151086, 0.177027, 0.200379, 0.235208, 0.262274, 0.308244, 0.354211, 0.399114, 0.438045, 0.451972, 0.348838, 0.0785656 ], [ 0.0912938, 0.111068, 0.121379, 0.143821, 0.157953, 0.18288, 0.209686, 0.247651, 0.287553, 0.337035, 0.366382, 0.403975, 0.414828, 0.311082, 0.0659389 ], [ 0.0878051, 0.0972162, 0.112384, 0.132368, 0.151466, 0.175821, 0.203719, 0.229733, 0.264934, 0.293216, 0.335221, 0.376837, 0.387295, 0.295208, 0.0636127 ], [ 0.0805041, 0.092475, 0.102721, 0.123061, 0.138683, 0.157957, 0.180476, 0.216839, 0.246254, 0.280231, 0.31446, 0.345544, 0.35457, 0.274551, 0.0578299 ], [ 0.0728485, 0.0870734, 0.0960916, 0.111292, 0.128073, 0.14913, 0.168141, 0.197656, 0.2228, 0.261283, 0.291398, 0.320723, 0.328669, 0.242181, 0.0515572 ]  ]\n",
    "\n",
    "Signif=fliplr(np.array(Signiflist))\n",
    "SignifT=Signif.transpose()\n",
    "nsignal=fliplr(np.array(nsignallist))\n",
    "\n",
    "lumiscale=5.477\n",
    "Z=lumiscale*SignifT\n",
    "\n",
    "Nsevents=1.E5\n",
    "Eff=nsignal/Nsevents\n",
    "\n",
    "#test:\n",
    "LumiS3=900/(SignifT**2)\n"
   ]
  },
  {
   "cell_type": "code",
   "execution_count": 34,
   "metadata": {},
   "outputs": [],
   "source": [
    "LaL=deltaM\n",
    "MH0=MF100"
   ]
  },
  {
   "cell_type": "code",
   "execution_count": 35,
   "metadata": {},
   "outputs": [],
   "source": [
    "#dh5=dh[dh.LaL==5]\n",
    "#dh5\n",
    "#Eff"
   ]
  },
  {
   "cell_type": "code",
   "execution_count": 37,
   "metadata": {},
   "outputs": [
    {
     "ename": "NameError",
     "evalue": "name 'dh' is not defined",
     "output_type": "error",
     "traceback": [
      "\u001b[0;31m---------------------------------------------------------------------------\u001b[0m",
      "\u001b[0;31mNameError\u001b[0m                                 Traceback (most recent call last)",
      "\u001b[0;32m<ipython-input-37-26b994ba312b>\u001b[0m in \u001b[0;36m<module>\u001b[0;34m()\u001b[0m\n\u001b[0;32m----> 1\u001b[0;31m \u001b[0mplt\u001b[0m\u001b[0;34m.\u001b[0m\u001b[0mplot\u001b[0m\u001b[0;34m(\u001b[0m\u001b[0mdh\u001b[0m\u001b[0;34m[\u001b[0m\u001b[0mdh\u001b[0m\u001b[0;34m.\u001b[0m\u001b[0mLaL\u001b[0m\u001b[0;34m==\u001b[0m\u001b[0;36m5\u001b[0m\u001b[0;34m]\u001b[0m\u001b[0;34m.\u001b[0m\u001b[0mMH0\u001b[0m\u001b[0;34m,\u001b[0m\u001b[0mdh\u001b[0m\u001b[0;34m[\u001b[0m\u001b[0mdh\u001b[0m\u001b[0;34m.\u001b[0m\u001b[0mLaL\u001b[0m\u001b[0;34m==\u001b[0m\u001b[0;36m5\u001b[0m\u001b[0;34m]\u001b[0m\u001b[0;34m.\u001b[0m\u001b[0mSignificance\u001b[0m\u001b[0;34m,\u001b[0m\u001b[0;34m'ro'\u001b[0m\u001b[0;34m)\u001b[0m\u001b[0;34m\u001b[0m\u001b[0m\n\u001b[0m",
      "\u001b[0;31mNameError\u001b[0m: name 'dh' is not defined"
     ]
    }
   ],
   "source": []
  },
  {
   "cell_type": "code",
   "execution_count": 38,
   "metadata": {},
   "outputs": [],
   "source": [
    "# By Jake VanderPlas\n",
    "# License: BSD-style\n",
    "\n",
    "import matplotlib.pyplot as plt\n",
    "import numpy as np\n",
    "\n",
    "\n",
    "def discrete_cmap(N, base_cmap=None):\n",
    "    \"\"\"Create an N-bin discrete colormap from the specified input map\"\"\"\n",
    "\n",
    "    # Note that if base_cmap is a string or None, you can simply do\n",
    "    #    return plt.cm.get_cmap(base_cmap, N)\n",
    "    # The following works for string, None, or a colormap instance:\n",
    "\n",
    "    base = plt.cm.get_cmap(base_cmap)\n",
    "    color_list = base(np.linspace(0, 1, N))\n",
    "    cmap_name = base.name + str(N)\n",
    "    return base.from_list(cmap_name, color_list, N)\n"
   ]
  },
  {
   "cell_type": "code",
   "execution_count": 39,
   "metadata": {},
   "outputs": [
    {
     "data": {
      "image/png": "[encoded data removed]",
      "text/plain": [
       "<matplotlib.figure.Figure at 0x7f986cb13250>"
      ]
     },
     "metadata": {},
     "output_type": "display_data"
    }
   ],
   "source": [
    "#warning: check if it runs when kernel is restarted. So far, it works below.\n",
    "dh=pd.DataFrame()\n",
    "#Significance=Signif\n",
    "for i in range(LaL.shape[0]):\n",
    "    for j in range(MH0.shape[0]):\n",
    "        #dh=dh.append({'LaL':LaL[i],'MH0':MH0180[j],'XS':XS180[i,j],'Significance':Signif.transpose()[i,j]},ignore_index=True)\n",
    "        dh=dh.append({'LaL':LaL[i],'MH0':MH0[j],'XS':XS[i,j],'Significance':Signif.transpose()[i,j]},ignore_index=True)\n",
    "\n",
    "xlist=np.linspace(MH0.min(),MH0.max(),MH0.shape[0])\n",
    "ylist=np.linspace(LaL.min(),LaL.max(),LaL.shape[0])\n",
    "X,Y = np.meshgrid(xlist,ylist)\n",
    "#lumiscale=1.732\n",
    "lumiscale=5.477\n",
    "#lumiscale=1.0\n",
    "Z=lumiscale*SignifT\n",
    "\n",
    "#----------------------------------\n",
    "degXYZ=10\n",
    "X3=scipy.ndimage.zoom(X, degXYZ)\n",
    "Y3=scipy.ndimage.zoom(Y, degXYZ)\n",
    "Z3=scipy.ndimage.zoom(Z, degXYZ)\n",
    "\n",
    "#levels = [1.0, 2.0, 3.0, 4.0, 5.0,10.,20.]\n",
    "levels = [3, 5.196152422706632, 9.4868329805051381, 16.431676725154983,30]\n",
    "\n",
    "#levels = [0.0, 0.5, 1.0, 2.0, 3.0, 4.0, 5.0]\n",
    "#cp=plt.contour(X,Y,Z,levels)\n",
    "cp=plt.contour(X3,Y3,Z3,levels)\n",
    "plt.clabel(cp,inline=True)\n",
    "\n",
    "N=10\n",
    "#cmap=discrete_cmap(N, 'jet')\n",
    "cmap=discrete_cmap(N, 'rainbow')\n",
    "plt.hexbin(dh.MH0,dh.LaL,(5.477*dh.Significance),gridsize=100,cmap=cmap)\n",
    "plt.ylim(0,15.5)\n",
    "#plt.title(\"$MET>150, p_T<20, MT<40$ at L=3/ab \")\n",
    "plt.xlabel(\"$M_\\Psi [GeV]$\")\n",
    "plt.ylabel(\"$\\Delta M = M_\\Psi - M_S [GeV]$\")\n",
    "\n",
    "plt.colorbar(ticks=range(N))\n",
    "plt.clim(0., N ) \n",
    "#plt.savefig(\"significance110.2040.pdf\")\n"
   ]
  },
  {
   "cell_type": "code",
   "execution_count": 41,
   "metadata": {},
   "outputs": [
    {
     "data": {
      "text/plain": [
       "[<matplotlib.lines.Line2D at 0x7f9806abb410>]"
      ]
     },
     "execution_count": 41,
     "metadata": {},
     "output_type": "execute_result"
    },
    {
     "data": {
      "image/png": "[encoded data removed]",
      "text/plain": [
       "<matplotlib.figure.Figure at 0x7f98142c4b50>"
      ]
     },
     "metadata": {},
     "output_type": "display_data"
    }
   ],
   "source": [
    "plt.plot(dh[dh.LaL==5].MH0,dh[dh.LaL==5].Significance,'ro')"
   ]
  },
  {
   "cell_type": "code",
   "execution_count": 46,
   "metadata": {},
   "outputs": [],
   "source": [
    "dh['B']=int(B100)"
   ]
  },
  {
   "cell_type": "code",
   "execution_count": 67,
   "metadata": {},
   "outputs": [],
   "source": [
    "dh['S']=S(dh.Significance,dh.B)"
   ]
  },
  {
   "cell_type": "code",
   "execution_count": 74,
   "metadata": {},
   "outputs": [
    {
     "data": {
      "text/plain": [
       "5.477"
      ]
     },
     "execution_count": 74,
     "metadata": {},
     "output_type": "execute_result"
    }
   ],
   "source": []
  },
  {
   "cell_type": "code",
   "execution_count": 75,
   "metadata": {},
   "outputs": [],
   "source": [
    "Lumi=100*1000 #pb\n",
    "dh['epsilon']=dh.S/(dh.XS*Lumi)"
   ]
  },
  {
   "cell_type": "code",
   "execution_count": 78,
   "metadata": {},
   "outputs": [
    {
     "data": {
      "text/plain": [
       "Index([u'LaL', u'MH0', u'Significance', u'XS', u'B', u'S', u'epsilon'], dtype='object')"
      ]
     },
     "execution_count": 78,
     "metadata": {},
     "output_type": "execute_result"
    }
   ],
   "source": [
    "dh.columns"
   ]
  },
  {
   "cell_type": "code",
   "execution_count": 84,
   "metadata": {},
   "outputs": [],
   "source": [
    "dh.rename_axis({'LaL':'DeltaM','MH0':'MHF'},axis='columns').to_csv('grid_lumi_100fb-1.csv',index=False)"
   ]
  },
  {
   "cell_type": "code",
   "execution_count": 21,
   "metadata": {},
   "outputs": [
    {
     "data": {
      "text/plain": [
       "<matplotlib.text.Text at 0x7f628815ac90>"
      ]
     },
     "execution_count": 21,
     "metadata": {},
     "output_type": "execute_result"
    },
    {
     "data": {
      "image/png": "[encoded data removed]",
      "text/plain": [
       "<matplotlib.figure.Figure at 0x7f626ae06e10>"
      ]
     },
     "metadata": {},
     "output_type": "display_data"
    }
   ],
   "source": [
    "Z=np.log10(LumiS3)\n",
    "\n",
    "#----------------------------------\n",
    "X3=scipy.ndimage.zoom(X, 10)\n",
    "Y3=scipy.ndimage.zoom(Y, 10)\n",
    "Z3=scipy.ndimage.zoom(Z, 10)\n",
    "\n",
    "levels = [1.47712, 2., 2.47712, 3.0, 3.47712, 4.0,4.47712]\n",
    "c=('#000022','#000088', '#0000ff','#00cc00','#ff0000','#880000')\n",
    "#contour_filled = plt.contourf(X, Y, Z, levels, colors=c)\n",
    "contour_filled = plt.contourf(X3, Y3, Z3, levels, colors=c)\n",
    "plt.colorbar(contour_filled)\n",
    "#plt.clabel(cp,inline=True)\n",
    "plt.ylim(0,10.5)\n",
    "plt.title(\"$Log_{10}(L_3[fb^{-1}]), MET>110, p_T<20, MT<20$ \")\n",
    "plt.xlabel(\"$M_\\Psi [GeV]$\")\n",
    "plt.ylabel(\"$\\Delta M = M_\\Psi - M_S [GeV]$\")\n",
    "#plt.savefig(\"log10lumiforS3.pdf\")"
   ]
  },
  {
   "cell_type": "code",
   "execution_count": 22,
   "metadata": {},
   "outputs": [
    {
     "data": {
      "text/plain": [
       "<matplotlib.colorbar.Colorbar at 0x7f6268abe710>"
      ]
     },
     "execution_count": 22,
     "metadata": {},
     "output_type": "execute_result"
    },
    {
     "data": {
      "image/png": "[encoded data removed]",
      "text/plain": [
       "<matplotlib.figure.Figure at 0x7f6288145d50>"
      ]
     },
     "metadata": {},
     "output_type": "display_data"
    }
   ],
   "source": [
    "Z=LumiS3\n",
    "\n",
    "#----------------------------------\n",
    "X3=scipy.ndimage.zoom(X, 1)\n",
    "Y3=scipy.ndimage.zoom(Y, 1)\n",
    "Z3=scipy.ndimage.zoom(Z, 1)\n",
    "\n",
    "levels = [0.0, 100, 300.0, 1000.0, 3000.0, 10000.0,30000.]\n",
    "c=('#000066', '#0000aa','#00aaff','#00ff00','#ff0000','#880000')\n",
    "#contour_filled = plt.contourf(X, Y, Z, levels, colors=c)\n",
    "contour_filled = plt.contourf(X3, Y3, Z3, levels, colors=c)\n",
    "plt.colorbar(contour_filled)\n",
    "#plt.clabel(cp,inline=True)\n"
   ]
  },
  {
   "cell_type": "code",
   "execution_count": 23,
   "metadata": {},
   "outputs": [
    {
     "data": {
      "image/png": "[encoded data removed]",
      "text/plain": [
       "<matplotlib.figure.Figure at 0x7f6268cc0510>"
      ]
     },
     "metadata": {},
     "output_type": "display_data"
    }
   ],
   "source": [
    "xlist=np.linspace(100,200,21)\n",
    "ylist=np.linspace(1,10,10)\n",
    "X,Y = np.meshgrid(xlist,ylist)\n",
    "lumiscale=1.732\n",
    "Z=lumiscale*SignifT\n",
    "levels = [0.0, 0.5, 1.0, 2.0, 3.0, 4.0, 5.0]\n",
    "if (shape(Z)==shape(X) and shape(X)==shape(Y)): \n",
    "    cp=plt.contour(X,Y,Z,levels)\n",
    "    plt.clabel(cp,inline=True)\n",
    "#print X,Z"
   ]
  },
  {
   "cell_type": "code",
   "execution_count": 24,
   "metadata": {},
   "outputs": [
    {
     "name": "stdout",
     "output_type": "stream",
     "text": [
      "110.12352\n"
     ]
    }
   ],
   "source": [
    "print scen"
   ]
  },
  {
   "cell_type": "code",
   "execution_count": 99,
   "metadata": {},
   "outputs": [
    {
     "data": {
      "image/png": "[encoded data removed]",
      "text/plain": [
       "<matplotlib.figure.Figure at 0x7fdbe342a610>"
      ]
     },
     "metadata": {},
     "output_type": "display_data"
    }
   ],
   "source": [
    "#warning: check if it runs when kernel is restarted. So far, it works below.\n",
    "dh=pd.DataFrame()\n",
    "#Significance=Signif\n",
    "for i in range(LaL.shape[0]):\n",
    "    for j in range(MH0.shape[0]):\n",
    "        #dh=dh.append({'LaL':LaL[i],'MH0':MH0180[j],'XS':XS180[i,j],'Significance':Signif.transpose()[i,j]},ignore_index=True)\n",
    "        dh=dh.append({'LaL':LaL[i],'MH0':MH0[j],'XS':XS[i,j],'Significance':Signif.transpose()[i,j]},ignore_index=True)\n",
    "\n",
    "xlist=np.linspace(MH0.min(),MH0.max(),MH0.shape[0])\n",
    "ylist=np.linspace(LaL.min(),LaL.max(),LaL.shape[0])\n",
    "X,Y = np.meshgrid(xlist,ylist)\n",
    "#lumiscale=1.732\n",
    "lumiscale=5.477\n",
    "#lumiscale=1.0\n",
    "Z=lumiscale*SignifT\n",
    "\n",
    "#----------------------------------\n",
    "degXYZ=10\n",
    "X3=scipy.ndimage.zoom(X, degXYZ)\n",
    "Y3=scipy.ndimage.zoom(Y, degXYZ)\n",
    "Z3=scipy.ndimage.zoom(Z, degXYZ)\n",
    "\n",
    "#levels = [1.0, 2.0, 3.0, 4.0, 5.0,10.,20.]\n",
    "levels = [3, 5.196152422706632, 9.4868329805051381, 16.431676725154983,30]\n",
    "\n",
    "#levels = [0.0, 0.5, 1.0, 2.0, 3.0, 4.0, 5.0]\n",
    "#cp=plt.contour(X,Y,Z,levels)\n",
    "cp=plt.contour(X3,Y3,Z3,levels)\n",
    "plt.clabel(cp,inline=True)\n",
    "\n",
    "N=10\n",
    "#cmap=discrete_cmap(N, 'jet')\n",
    "cmap=discrete_cmap(N, 'rainbow')\n",
    "#plt.hexbin(dh.MH0,dh.LaL,(5.477*dh.Significance),gridsize=100,cmap=cmap)\n",
    "plt.ylim(0,15.5)\n",
    "\n",
    "plt.xlabel(\"$M_\\Psi [GeV]$\")\n",
    "plt.ylabel(\"$\\Delta M = M_\\Psi - M_S [GeV]$\")\n",
    "\n",
    "#plt.colorbar(ticks=range(N))\n",
    "plt.clim(0., 2*N ) \n",
    "\n",
    "if scen==110.204020:   #100-200 1-15 range\n",
    "    plt.title(\"$MET>110, p_T<20, MT<40, ljP_{T}>20$, at L=3/ab \")\n",
    "    #plt.savefig(\"significance110.2040.pdf\")\n",
    "\n"
   ]
  },
  {
   "cell_type": "code",
   "execution_count": null,
   "metadata": {
    "collapsed": true
   },
   "outputs": [],
   "source": []
  },
  {
   "cell_type": "code",
   "execution_count": null,
   "metadata": {
    "collapsed": true
   },
   "outputs": [],
   "source": []
  },
  {
   "cell_type": "code",
   "execution_count": null,
   "metadata": {
    "collapsed": true
   },
   "outputs": [],
   "source": []
  }
 ],
 "metadata": {
  "kernelspec": {
   "display_name": "Python 3",
   "language": "python",
   "name": "python3"
  },
  "language_info": {
   "codemirror_mode": {
    "name": "ipython",
    "version": 3
   },
   "file_extension": ".py",
   "mimetype": "text/x-python",
   "name": "python",
   "nbconvert_exporter": "python",
   "pygments_lexer": "ipython3",
   "version": "3.5.3"
  },
  "latex_envs": {
   "LaTeX_envs_menu_present": true,
   "bibliofile": "biblio.bib",
   "cite_by": "apalike",
   "current_citInitial": 1,
   "eqLabelWithNumbers": true,
   "eqNumInitial": 1,
   "labels_anchors": false,
   "latex_user_defs": false,
   "report_style_numbering": false,
   "user_envs_cfg": false
  },
  "toc": {
   "colors": {
    "hover_highlight": "#DAA520",
    "running_highlight": "#FF0000",
    "selected_highlight": "#FFD700"
   },
   "moveMenuLeft": true,
   "nav_menu": {
    "height": "139px",
    "width": "252px"
   },
   "navigate_menu": true,
   "number_sections": true,
   "sideBar": true,
   "threshold": 4,
   "toc_cell": false,
   "toc_section_display": "block",
   "toc_window_display": false
  }
 },
 "nbformat": 4,
 "nbformat_minor": 1
}
